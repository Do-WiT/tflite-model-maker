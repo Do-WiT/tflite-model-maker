{
 "cells": [
  {
   "cell_type": "code",
   "execution_count": 1,
   "metadata": {},
   "outputs": [],
   "source": [
    "from PIL import Image\n",
    "import glob\n",
    "import matplotlib.pyplot as plt\n",
    "import numpy as np"
   ]
  },
  {
   "cell_type": "markdown",
   "metadata": {},
   "source": [
    "load dataset"
   ]
  },
  {
   "cell_type": "code",
   "execution_count": null,
   "metadata": {},
   "outputs": [],
   "source": [
    "data_set = [\"ds1\", \"ds2\", \"ds3\", \"ds4\"]\n",
    "folder = [\"0\", \"1\", \"2\", \"3\", \"4\", \"5\", \"6\", \"7\", \"8\", \"9\"]"
   ]
  },
  {
   "cell_type": "code",
   "execution_count": null,
   "metadata": {},
   "outputs": [],
   "source": [
    "num_img = 0\n",
    "for ds in data_set:\n",
    "    for fd in folder:\n",
    "        for filename in glob.glob(r\"dataset/\"+ds+\"/\"+fd+\"/*.png\"): #assuming gif\n",
    "            im=Image.open(filename).convert(\"RGB\")\n",
    "            im.save(r\"dataset_jpg/\"+str(num_img)+\".jpg\")\n",
    "            num_img+=1"
   ]
  },
  {
   "cell_type": "code",
   "execution_count": null,
   "metadata": {},
   "outputs": [],
   "source": [
    "num = 1199\n",
    "pfd = 0\n",
    "ds = \"ds4\"\n",
    "for fd in folder:\n",
    "    count = 0\n",
    "    for filename in glob.glob(\"dataset/\"+ds+\"/\"+fd+\"/*.png\"): #assuming gif\n",
    "        if count == 300:\n",
    "            count = 0\n",
    "            num = 1199\n",
    "            pfd += 1\n",
    "            break\n",
    "        im=Image.open(filename)\n",
    "        im.save(\"digit_dataset/\"+str(pfd) +\"/\"+str(num)+\".png\")\n",
    "        num+=1\n",
    "        count += 1"
   ]
  },
  {
   "cell_type": "code",
   "execution_count": null,
   "metadata": {},
   "outputs": [],
   "source": [
    "num_img_png = 0\n",
    "\n",
    "for ds in data_set:\n",
    "    for fd in folder:\n",
    "        for filename in glob.glob(r\"dataset/\"+ds+\"/\"+fd+\"/*.png\"): #assuming gif\n",
    "\n",
    "            Image.open(filename).save(\"dataset_png/\"+str(num_img_png)+\".png\")\n",
    "            \n",
    "            num_img_png += 1"
   ]
  },
  {
   "cell_type": "code",
   "execution_count": null,
   "metadata": {},
   "outputs": [],
   "source": [
    "import random"
   ]
  },
  {
   "cell_type": "code",
   "execution_count": null,
   "metadata": {},
   "outputs": [],
   "source": [
    "#np.random.\n",
    "\n",
    "for i in range(100):\n",
    "    \n",
    "    img = np.zeros((320, 320), dtype = np.uint8)\n",
    "    \n",
    "    num_sub_img = random.randint(1, 20)\n",
    "    \n",
    "    for n in range(num_sub_img):\n",
    "        \n",
    "        rd_sub_img = random.randint(0, 1103)\n",
    "        \n",
    "        sub_img = Image.open(\"test_dataset/\" + str(rd_sub_img) + \".jpg\")\n",
    "        \n",
    "        random_size = random.randint(sub_img.size[0]/2, sub_img.size[0]*2)\n",
    "        \n",
    "        new_sub_img = np.array(sub_img.resize((random_size, random_size)))\n",
    "        \n",
    "        rd_x = random.randint(0,320 - new_sub_img.shape[0])\n",
    "        rd_y = random.randint(0,320 - new_sub_img.shape[0])\n",
    "        \n",
    "        for r in range(new_sub_img.shape[0]):\n",
    "            for c in range(new_sub_img.shape[1]):\n",
    "                \n",
    "                if len(new_sub_img.shape) == 3:\n",
    "                    sub_pix = new_sub_img[r, c, 0]\n",
    "                else:\n",
    "                    sub_pix = new_sub_img[r, c]\n",
    "                \n",
    "                pix = img[rd_x + r, rd_y+ c]\n",
    "                \n",
    "                if sub_pix >= pix :\n",
    "                    img[rd_x + r, rd_y + c] = sub_pix\n",
    "\n",
    "    Image.fromarray(img).save(\"dataset_compo/\"+str(i)+\".jpg\")\n",
    "        \n",
    "        \n",
    "    "
   ]
  },
  {
   "cell_type": "code",
   "execution_count": null,
   "metadata": {},
   "outputs": [],
   "source": [
    "for i in range(200):\n",
    "    \n",
    "    img = np.zeros((320, 320), dtype = np.uint8)\n",
    "    \n",
    "    num_sub_img = random.randint(1, 11)\n",
    "    \n",
    "    for n in range(num_sub_img):\n",
    "        \n",
    "        rd_sub_img = random.randint(0, 1103)\n",
    "        \n",
    "        sub_img = Image.open(\"test_dataset/\" + str(rd_sub_img) + \".jpg\")\n",
    "        \n",
    "        random_size = random.randint(int(sub_img.size[0]/3), int(sub_img.size[0]*2.5))\n",
    "        \n",
    "        new_sub_img = np.array(sub_img.resize((random_size, random_size)))\n",
    "        \n",
    "        rd_x = random.randint(0,320 - new_sub_img.shape[0])\n",
    "        rd_y = random.randint(0,320 - new_sub_img.shape[0])\n",
    "        \n",
    "        if len(new_sub_img.shape) == 2: #########\n",
    "            new_sub_img = np.array(sub_img.resize((int(random_size/2), int(random_size/2))))\n",
    "\n",
    "            \n",
    "        for r in range(new_sub_img.shape[0]):\n",
    "            for c in range(new_sub_img.shape[1]):\n",
    "                \n",
    "                if len(new_sub_img.shape) == 3:\n",
    "                    sub_pix = new_sub_img[r, c, 0]\n",
    "                else:\n",
    "                    \n",
    "                    sub_pix = new_sub_img[r, c]\n",
    "                \n",
    "                pix = img[rd_x + r, rd_y+ c]\n",
    "                \n",
    "                if sub_pix >= pix :\n",
    "                    img[rd_x + r, rd_y + c] = sub_pix\n",
    "\n",
    "    Image.fromarray(img).save(\"dataset_compo/\"+str(i)+\".jpg\")\n",
    "        \n",
    "        \n",
    "    "
   ]
  },
  {
   "cell_type": "code",
   "execution_count": null,
   "metadata": {},
   "outputs": [],
   "source": [
    "\n",
    "\n",
    "folders = ['0','1','2','3','4','5','6','7','8','9','10']\n",
    "\n",
    "\n",
    "for i in range(1499):\n",
    "    \n",
    "    img = np.zeros((320, 320, 3), dtype = np.uint8)\n",
    "    \n",
    "    \n",
    "    for fd in folders:\n",
    "        \n",
    "        sub_img = Image.open(\"digit_dataset/\" + fd + '/'+ str(i) + '.png')\n",
    "        \n",
    "        random_size = random.randint(int(sub_img.size[0]/2), int(sub_img.size[0]*2.5))\n",
    "        \n",
    "        new_sub_img = np.array(sub_img.resize((random_size, random_size)))\n",
    "        \n",
    "        rd_x = random.randint(0,320 - new_sub_img.shape[0])\n",
    "        rd_y = random.randint(0,320 - new_sub_img.shape[0])\n",
    "        \n",
    "        if fd == '10': #########\n",
    "            new_sub_img = np.array(sub_img.resize((int(random_size/2), int(random_size/2))))\n",
    "\n",
    "            \n",
    "        for r in range(new_sub_img.shape[0]):\n",
    "            for c in range(new_sub_img.shape[1]):\n",
    "                \n",
    "                sub_pix = new_sub_img[r, c, 0]\n",
    "                \n",
    "                pix = img[rd_x + r, rd_y+ c, 0]\n",
    "                \n",
    "                if sub_pix >= pix :\n",
    "                    img[rd_x + r, rd_y + c, 0] = sub_pix\n",
    "                    img[rd_x + r, rd_y + c, 1] = sub_pix\n",
    "                    img[rd_x + r, rd_y + c, 2] = sub_pix\n",
    "\n",
    "    Image.fromarray(img).save(\"digit_dataset/\"+ \"compo/\" +str(i)+\".jpg\")\n",
    "        \n",
    "        \n",
    "    "
   ]
  },
  {
   "cell_type": "code",
   "execution_count": null,
   "metadata": {},
   "outputs": [],
   "source": []
  },
  {
   "cell_type": "code",
   "execution_count": 4,
   "metadata": {},
   "outputs": [],
   "source": [
    "from PIL import Image\n",
    "import glob\n",
    "import numpy as np\n",
    "\n",
    "num = 1300\n",
    "\n",
    "for filename in glob.glob(\"real_img2/*.png\"): \n",
    "    \n",
    "    img = np.array(Image.open(filename).convert(\"RGB\").resize((320,320)))\n",
    "    \n",
    "    #plt.imshow(img)\n",
    "    #print(img.shape)\n",
    "    #break\n",
    "    \n",
    "    Image.fromarray(img).save(\"real_img2_320px/\" + str(num) + \".jpg\")\n",
    "    \n",
    "    num+=1\n",
    "            \n",
    "            \n",
    "                 "
   ]
  },
  {
   "cell_type": "code",
   "execution_count": null,
   "metadata": {},
   "outputs": [],
   "source": []
  }
 ],
 "metadata": {
  "kernelspec": {
   "display_name": "Python 3",
   "language": "python",
   "name": "python3"
  },
  "language_info": {
   "codemirror_mode": {
    "name": "ipython",
    "version": 3
   },
   "file_extension": ".py",
   "mimetype": "text/x-python",
   "name": "python",
   "nbconvert_exporter": "python",
   "pygments_lexer": "ipython3",
   "version": "3.8.6"
  }
 },
 "nbformat": 4,
 "nbformat_minor": 4
}
