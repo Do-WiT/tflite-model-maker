{
 "cells": [
  {
   "cell_type": "code",
   "execution_count": 1,
   "metadata": {},
   "outputs": [
    {
     "name": "stderr",
     "output_type": "stream",
     "text": [
      "c:\\users\\wit_w\\appdata\\local\\programs\\python\\python38\\lib\\site-packages\\requests\\__init__.py:89: RequestsDependencyWarning: urllib3 (1.26.7) or chardet (3.0.4) doesn't match a supported version!\n",
      "  warnings.warn(\"urllib3 ({}) or chardet ({}) doesn't match a supported \"\n"
     ]
    }
   ],
   "source": [
    "from skimage.color import rgb2gray\n",
    "from skimage.morphology import opening, square, closing\n",
    "import skimage.filters as filter"
   ]
  },
  {
   "cell_type": "code",
   "execution_count": 2,
   "metadata": {},
   "outputs": [],
   "source": [
    "import numpy as np\n",
    "import matplotlib.pyplot as plt\n",
    "import copy\n",
    "import glob\n",
    "from PIL import Image, ImageOps"
   ]
  },
  {
   "cell_type": "markdown",
   "metadata": {},
   "source": [
    "# convert RGB.jpg to Grayscale.jpg"
   ]
  },
  {
   "cell_type": "code",
   "execution_count": 90,
   "metadata": {},
   "outputs": [],
   "source": [
    "\n",
    "\n",
    "for file in glob.glob(\"all_train/dataset5/*.jpg\"):\n",
    "    \n",
    "    #print(file)\n",
    "    #break\n",
    "    \n",
    "    \n",
    "    img_path = file[18:len(file) - 4]\n",
    "    \n",
    "    img = np.array(Image.open(file).resize((320, 320)))\n",
    "    \n",
    "    gray = rgb2gray(img) * 255\n",
    "    \n",
    "    res_img = np.zeros((320,320,3), dtype = np.uint8)\n",
    "\n",
    "    for r in range(res_img.shape[0]):\n",
    "        for c in range(res_img.shape[1]):\n",
    "        \n",
    "            res_img[r, c, 0] = gray[r, c]\n",
    "            res_img[r, c, 1] = gray[r, c]\n",
    "            res_img[r, c, 2] = gray[r, c]\n",
    "\n",
    "    path = \"all_train/train_rgb2/\" + img_path + \".jpg\"\n",
    "    \n",
    "    #print(path)\n",
    "    #break\n",
    "    img2= Image.fromarray(res_img).save(path)\n",
    " \n",
    "\n",
    "    \n",
    "    \n",
    "\n",
    "    \n"
   ]
  },
  {
   "cell_type": "markdown",
   "metadata": {},
   "source": [
    "# Change tag value in xml file"
   ]
  },
  {
   "cell_type": "code",
   "execution_count": 31,
   "metadata": {},
   "outputs": [],
   "source": [
    "from xml.etree import ElementTree as et"
   ]
  },
  {
   "cell_type": "code",
   "execution_count": 32,
   "metadata": {},
   "outputs": [],
   "source": [
    "file_path = \"all_train/wait_prepare/1.xml\""
   ]
  },
  {
   "cell_type": "code",
   "execution_count": 33,
   "metadata": {},
   "outputs": [],
   "source": [
    "tree = et.parse(file_path)"
   ]
  },
  {
   "cell_type": "code",
   "execution_count": 34,
   "metadata": {},
   "outputs": [],
   "source": [
    "tree.find('./filename').text = '1.jpg'"
   ]
  },
  {
   "cell_type": "code",
   "execution_count": 35,
   "metadata": {},
   "outputs": [],
   "source": [
    "tree.write(file_path)"
   ]
  },
  {
   "cell_type": "code",
   "execution_count": 70,
   "metadata": {},
   "outputs": [],
   "source": [
    "\n",
    "for file in glob.glob(\"all_train/wait_prepare/*.xml\"):\n",
    "    \n",
    "    tree = et.parse(file)\n",
    "    \n",
    "    tag_filename = tree.find('./filename').text\n",
    "    \n",
    "    img_path = tag_filename[0:len(tag_filename) -4]\n",
    "    \n",
    "    tree.find('./filename').text = img_path + \".jpg\"\n",
    "\n",
    "    #tree.write(file)\n",
    "\n",
    "    \n",
    "\n",
    "    \n",
    "    \n"
   ]
  },
  {
   "cell_type": "markdown",
   "metadata": {},
   "source": [
    "tree.find('idinfo/timeperd/timeinfo/rngdates/begdate').text = '1/1/2011'\n",
    "tree.find('idinfo/timeperd/timeinfo/rngdates/enddate').text = '1/1/2011'\n",
    "tree.write(datafile)"
   ]
  },
  {
   "cell_type": "markdown",
   "metadata": {},
   "source": [
    "##"
   ]
  },
  {
   "cell_type": "markdown",
   "metadata": {},
   "source": [
    "## PNG to RGB"
   ]
  },
  {
   "cell_type": "code",
   "execution_count": 93,
   "metadata": {},
   "outputs": [],
   "source": [
    "for file in glob.glob(\"all_train/dataset5/*.jpg\"):\n",
    "    \n",
    "    img_path = file[18:len(file) - 4]\n",
    "    \n",
    "    img = np.array(Image.open(file).resize((320,320)).convert(\"RGB\"))\n",
    "\n",
    "    path = \"all_train/train_rgb2/\" + img_path + \".jpg\"\n",
    "    \n",
    "    Image.fromarray(img).save(path)"
   ]
  },
  {
   "cell_type": "code",
   "execution_count": 75,
   "metadata": {},
   "outputs": [],
   "source": [
    "import random"
   ]
  },
  {
   "cell_type": "code",
   "execution_count": 80,
   "metadata": {},
   "outputs": [
    {
     "name": "stdout",
     "output_type": "stream",
     "text": [
      "[18, 34, 57, 83, 115, 118, 140, 167, 176, 183, 201, 232, 288, 294, 317, 318, 328, 336, 349, 359, 376, 386, 394, 406, 433, 456, 461, 472, 494, 496, 503, 562, 573, 575, 580, 590, 608, 612, 628, 651, 659, 671, 698, 699, 701, 715, 721, 765, 766, 774, 808, 822, 834, 837, 842, 851, 851, 866, 886, 889, 893, 895, 904, 932, 934, 934, 964, 979, 993, 998, 1014, 1027, 1077, 1088, 1124, 1124, 1128, 1136, 1197, 1200, 1212, 1226, 1239, 1240, 1254, 1269, 1274, 1287, 1293, 1302, 1335, 1338, 1355, 1387, 1392, 1394, 1418, 1422, 1444, 1481]\n"
     ]
    }
   ],
   "source": [
    "l = []\n",
    "for i in range(100):\n",
    "    l.append(random.randint(0, 1500))\n",
    "\n",
    "print(sorted(l))"
   ]
  }
 ],
 "metadata": {
  "kernelspec": {
   "display_name": "Python 3",
   "language": "python",
   "name": "python3"
  },
  "language_info": {
   "codemirror_mode": {
    "name": "ipython",
    "version": 3
   },
   "file_extension": ".py",
   "mimetype": "text/x-python",
   "name": "python",
   "nbconvert_exporter": "python",
   "pygments_lexer": "ipython3",
   "version": "3.8.6"
  }
 },
 "nbformat": 4,
 "nbformat_minor": 4
}
