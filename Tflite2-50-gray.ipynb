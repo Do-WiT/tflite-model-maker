{
 "cells": [
  {
   "cell_type": "code",
   "execution_count": null,
   "metadata": {},
   "outputs": [],
   "source": [
    "!pip install -q tensorflow-gpu==2.5.0\n",
    "!pip install -q tensorflow==2.5.0\n",
    "!pip install -q --use-deprecated=legacy-resolver tflite-model-maker\n",
    "!pip install -q pycocotools"
   ]
  },
  {
   "cell_type": "code",
   "execution_count": 1,
   "metadata": {
    "id": "QVMeWD3VlJLu"
   },
   "outputs": [],
   "source": [
    "import numpy as np\n",
    "import os\n",
    "import tensorflow as tf\n",
    "\n",
    "from tflite_model_maker.config import ExportFormat\n",
    "from tflite_model_maker import model_spec\n",
    "from tflite_model_maker import object_detector"
   ]
  },
  {
   "cell_type": "code",
   "execution_count": 2,
   "metadata": {
    "id": "UQjE8yQ4loxW"
   },
   "outputs": [],
   "source": [
    "labels = ['0', '1', '2', '3', '4', '5', '6', '7', '8', '9', '.']"
   ]
  },
  {
   "cell_type": "code",
   "execution_count": 3,
   "metadata": {
    "id": "thZmwxO-lr8e"
   },
   "outputs": [],
   "source": [
    "spec = model_spec.get('efficientdet_lite0')"
   ]
  },
  {
   "cell_type": "code",
   "execution_count": 4,
   "metadata": {
    "id": "Q17Tv7zMltth"
   },
   "outputs": [],
   "source": [
    "path = './dataset'"
   ]
  },
  {
   "cell_type": "code",
   "execution_count": 5,
   "metadata": {},
   "outputs": [],
   "source": [
    "path_test = './dataset_test'"
   ]
  },
  {
   "cell_type": "code",
   "execution_count": 6,
   "metadata": {},
   "outputs": [],
   "source": [
    "path_validation = './dataset_validation'"
   ]
  },
  {
   "cell_type": "code",
   "execution_count": 7,
   "metadata": {
    "id": "DIaUNP4Wl5q0",
    "scrolled": false
   },
   "outputs": [
    {
     "name": "stdout",
     "output_type": "stream",
     "text": [
      "INFO:tensorflow:Cache will be stored in C:\\Users\\paul_\\AppData\\Local\\Temp\\tmpzfoci_3f with prefix filename f47ea991c744852930363a7212e2d8e4. Cache_prefix is C:\\Users\\paul_\\AppData\\Local\\Temp\\tmpzfoci_3f\\f47ea991c744852930363a7212e2d8e4\n",
      "INFO:tensorflow:On image 0\n",
      "INFO:tensorflow:On image 100\n",
      "INFO:tensorflow:On image 200\n",
      "INFO:tensorflow:On image 300\n",
      "INFO:tensorflow:On image 400\n",
      "INFO:tensorflow:On image 500\n",
      "INFO:tensorflow:On image 600\n",
      "INFO:tensorflow:On image 700\n",
      "INFO:tensorflow:On image 800\n",
      "INFO:tensorflow:On image 900\n",
      "INFO:tensorflow:On image 1000\n"
     ]
    }
   ],
   "source": [
    "dataloader = object_detector.DataLoader.from_pascal_voc(path,path ,labels)"
   ]
  },
  {
   "cell_type": "code",
   "execution_count": 9,
   "metadata": {
    "scrolled": true
   },
   "outputs": [
    {
     "name": "stdout",
     "output_type": "stream",
     "text": [
      "INFO:tensorflow:Cache will be stored in C:\\Users\\paul_\\AppData\\Local\\Temp\\tmpmuzm815f with prefix filename a912ef79f12e325971524c789aac7847. Cache_prefix is C:\\Users\\paul_\\AppData\\Local\\Temp\\tmpmuzm815f\\a912ef79f12e325971524c789aac7847\n",
      "INFO:tensorflow:On image 0\n"
     ]
    }
   ],
   "source": [
    "dataloader_test = object_detector.DataLoader.from_pascal_voc(path_test, path_test ,labels)"
   ]
  },
  {
   "cell_type": "code",
   "execution_count": 10,
   "metadata": {},
   "outputs": [
    {
     "name": "stdout",
     "output_type": "stream",
     "text": [
      "INFO:tensorflow:Cache will be stored in C:\\Users\\paul_\\AppData\\Local\\Temp\\tmpl4_psmim with prefix filename 7cbdf808015c50475210392943eb51ae. Cache_prefix is C:\\Users\\paul_\\AppData\\Local\\Temp\\tmpl4_psmim\\7cbdf808015c50475210392943eb51ae\n",
      "INFO:tensorflow:On image 0\n"
     ]
    }
   ],
   "source": [
    "dataloader_validation = object_detector.DataLoader.from_pascal_voc(path_validation, path_validation ,labels)"
   ]
  },
  {
   "cell_type": "code",
   "execution_count": 12,
   "metadata": {
    "id": "3Z6cB9otl9F-"
   },
   "outputs": [
    {
     "name": "stdout",
     "output_type": "stream",
     "text": [
      "WARNING:tensorflow:Label map is not the same as the previous label_map in model_spec.\n"
     ]
    },
    {
     "name": "stderr",
     "output_type": "stream",
     "text": [
      "WARNING:tensorflow:Label map is not the same as the previous label_map in model_spec.\n"
     ]
    },
    {
     "name": "stdout",
     "output_type": "stream",
     "text": [
      "INFO:tensorflow:Retraining the models...\n"
     ]
    },
    {
     "name": "stderr",
     "output_type": "stream",
     "text": [
      "INFO:tensorflow:Retraining the models...\n"
     ]
    },
    {
     "name": "stdout",
     "output_type": "stream",
     "text": [
      "WARNING:tensorflow:From C:\\Users\\paul_\\anaconda3\\envs\\project-ai\\lib\\site-packages\\tensorflow\\python\\ops\\array_ops.py:5043: calling gather (from tensorflow.python.ops.array_ops) with validate_indices is deprecated and will be removed in a future version.\n",
      "Instructions for updating:\n",
      "The `validate_indices` argument has no effect. Indices are always validated on CPU and never validated on GPU.\n"
     ]
    },
    {
     "name": "stderr",
     "output_type": "stream",
     "text": [
      "WARNING:tensorflow:From C:\\Users\\paul_\\anaconda3\\envs\\project-ai\\lib\\site-packages\\tensorflow\\python\\ops\\array_ops.py:5043: calling gather (from tensorflow.python.ops.array_ops) with validate_indices is deprecated and will be removed in a future version.\n",
      "Instructions for updating:\n",
      "The `validate_indices` argument has no effect. Indices are always validated on CPU and never validated on GPU.\n"
     ]
    },
    {
     "name": "stdout",
     "output_type": "stream",
     "text": [
      "Epoch 1/50\n",
      "68/68 [==============================] - 66s 538ms/step - det_loss: 1.6126 - cls_loss: 1.0618 - box_loss: 0.0110 - reg_l2_loss: 0.0646 - loss: 1.6772 - learning_rate: 0.0140 - gradient_norm: 1.0149 - val_det_loss: 1.3320 - val_cls_loss: 1.0330 - val_box_loss: 0.0060 - val_reg_l2_loss: 0.0646 - val_loss: 1.3966\n",
      "Epoch 2/50\n",
      "68/68 [==============================] - 32s 474ms/step - det_loss: 0.9893 - cls_loss: 0.6913 - box_loss: 0.0060 - reg_l2_loss: 0.0647 - loss: 1.0539 - learning_rate: 0.0200 - gradient_norm: 1.3282 - val_det_loss: 0.8527 - val_cls_loss: 0.6401 - val_box_loss: 0.0043 - val_reg_l2_loss: 0.0647 - val_loss: 0.9174\n",
      "Epoch 3/50\n",
      "68/68 [==============================] - 32s 474ms/step - det_loss: 0.8299 - cls_loss: 0.5863 - box_loss: 0.0049 - reg_l2_loss: 0.0647 - loss: 0.8946 - learning_rate: 0.0199 - gradient_norm: 1.4432 - val_det_loss: 0.7971 - val_cls_loss: 0.5656 - val_box_loss: 0.0046 - val_reg_l2_loss: 0.0647 - val_loss: 0.8618\n",
      "Epoch 4/50\n",
      "68/68 [==============================] - 33s 488ms/step - det_loss: 0.7517 - cls_loss: 0.5277 - box_loss: 0.0045 - reg_l2_loss: 0.0647 - loss: 0.8165 - learning_rate: 0.0197 - gradient_norm: 1.4172 - val_det_loss: 0.6632 - val_cls_loss: 0.4984 - val_box_loss: 0.0033 - val_reg_l2_loss: 0.0647 - val_loss: 0.7279\n",
      "Epoch 5/50\n",
      "68/68 [==============================] - 33s 480ms/step - det_loss: 0.6757 - cls_loss: 0.4710 - box_loss: 0.0041 - reg_l2_loss: 0.0647 - loss: 0.7404 - learning_rate: 0.0196 - gradient_norm: 1.3605 - val_det_loss: 0.5521 - val_cls_loss: 0.4253 - val_box_loss: 0.0025 - val_reg_l2_loss: 0.0647 - val_loss: 0.6168\n",
      "loading annotations into memory...\n",
      "Done (t=0.01s)\n",
      "creating index...\n",
      "index created!\n",
      "Loading and preparing results...\n",
      "Converting ndarray to lists...\n",
      "(4800, 7)\n",
      "0/4800\n",
      "DONE (t=0.02s)\n",
      "creating index...\n",
      "index created!\n",
      "Running per image evaluation...\n",
      "Evaluate annotation type *bbox*\n",
      "DONE (t=0.59s).\n",
      "Accumulating evaluation results...\n",
      "DONE (t=0.14s).\n",
      " Average Precision  (AP) @[ IoU=0.50:0.95 | area=   all | maxDets=100 ] = 0.356\n",
      " Average Precision  (AP) @[ IoU=0.50      | area=   all | maxDets=100 ] = 0.612\n",
      " Average Precision  (AP) @[ IoU=0.75      | area=   all | maxDets=100 ] = 0.414\n",
      " Average Precision  (AP) @[ IoU=0.50:0.95 | area= small | maxDets=100 ] = 0.309\n",
      " Average Precision  (AP) @[ IoU=0.50:0.95 | area=medium | maxDets=100 ] = 0.441\n",
      " Average Precision  (AP) @[ IoU=0.50:0.95 | area= large | maxDets=100 ] = -1.000\n",
      " Average Recall     (AR) @[ IoU=0.50:0.95 | area=   all | maxDets=  1 ] = 0.303\n",
      " Average Recall     (AR) @[ IoU=0.50:0.95 | area=   all | maxDets= 10 ] = 0.561\n",
      " Average Recall     (AR) @[ IoU=0.50:0.95 | area=   all | maxDets=100 ] = 0.570\n",
      " Average Recall     (AR) @[ IoU=0.50:0.95 | area= small | maxDets=100 ] = 0.530\n",
      " Average Recall     (AR) @[ IoU=0.50:0.95 | area=medium | maxDets=100 ] = 0.638\n",
      " Average Recall     (AR) @[ IoU=0.50:0.95 | area= large | maxDets=100 ] = -1.000\n",
      "Epoch 6/50\n",
      "68/68 [==============================] - 33s 480ms/step - det_loss: 0.6308 - cls_loss: 0.4320 - box_loss: 0.0040 - reg_l2_loss: 0.0648 - loss: 0.6956 - learning_rate: 0.0194 - gradient_norm: 1.4280 - val_det_loss: 0.4950 - val_cls_loss: 0.3781 - val_box_loss: 0.0023 - val_reg_l2_loss: 0.0648 - val_loss: 0.5597\n",
      "Epoch 7/50\n",
      "68/68 [==============================] - 33s 488ms/step - det_loss: 0.5963 - cls_loss: 0.4017 - box_loss: 0.0039 - reg_l2_loss: 0.0648 - loss: 0.6610 - learning_rate: 0.0191 - gradient_norm: 1.4910 - val_det_loss: 0.4594 - val_cls_loss: 0.3389 - val_box_loss: 0.0024 - val_reg_l2_loss: 0.0648 - val_loss: 0.5242\n",
      "Epoch 8/50\n",
      "68/68 [==============================] - 34s 501ms/step - det_loss: 0.5467 - cls_loss: 0.3644 - box_loss: 0.0036 - reg_l2_loss: 0.0648 - loss: 0.6115 - learning_rate: 0.0189 - gradient_norm: 1.4123 - val_det_loss: 0.4378 - val_cls_loss: 0.3310 - val_box_loss: 0.0021 - val_reg_l2_loss: 0.0648 - val_loss: 0.5026\n",
      "Epoch 9/50\n",
      "68/68 [==============================] - 33s 487ms/step - det_loss: 0.5539 - cls_loss: 0.3610 - box_loss: 0.0039 - reg_l2_loss: 0.0648 - loss: 0.6187 - learning_rate: 0.0185 - gradient_norm: 1.5267 - val_det_loss: 0.4166 - val_cls_loss: 0.2936 - val_box_loss: 0.0025 - val_reg_l2_loss: 0.0648 - val_loss: 0.4814\n",
      "Epoch 10/50\n",
      "68/68 [==============================] - 33s 484ms/step - det_loss: 0.5237 - cls_loss: 0.3418 - box_loss: 0.0036 - reg_l2_loss: 0.0648 - loss: 0.5885 - learning_rate: 0.0182 - gradient_norm: 1.3884 - val_det_loss: 0.3839 - val_cls_loss: 0.2751 - val_box_loss: 0.0022 - val_reg_l2_loss: 0.0649 - val_loss: 0.4488\n",
      "loading annotations into memory...\n",
      "Done (t=0.00s)\n",
      "creating index...\n",
      "index created!\n",
      "Loading and preparing results...\n",
      "Converting ndarray to lists...\n",
      "(4800, 7)\n",
      "0/4800\n",
      "DONE (t=0.02s)\n",
      "creating index...\n",
      "index created!\n",
      "Running per image evaluation...\n",
      "Evaluate annotation type *bbox*\n",
      "DONE (t=0.59s).\n",
      "Accumulating evaluation results...\n",
      "DONE (t=0.16s).\n",
      " Average Precision  (AP) @[ IoU=0.50:0.95 | area=   all | maxDets=100 ] = 0.484\n",
      " Average Precision  (AP) @[ IoU=0.50      | area=   all | maxDets=100 ] = 0.809\n",
      " Average Precision  (AP) @[ IoU=0.75      | area=   all | maxDets=100 ] = 0.567\n",
      " Average Precision  (AP) @[ IoU=0.50:0.95 | area= small | maxDets=100 ] = 0.411\n",
      " Average Precision  (AP) @[ IoU=0.50:0.95 | area=medium | maxDets=100 ] = 0.608\n",
      " Average Precision  (AP) @[ IoU=0.50:0.95 | area= large | maxDets=100 ] = -1.000\n",
      " Average Recall     (AR) @[ IoU=0.50:0.95 | area=   all | maxDets=  1 ] = 0.370\n",
      " Average Recall     (AR) @[ IoU=0.50:0.95 | area=   all | maxDets= 10 ] = 0.609\n",
      " Average Recall     (AR) @[ IoU=0.50:0.95 | area=   all | maxDets=100 ] = 0.617\n",
      " Average Recall     (AR) @[ IoU=0.50:0.95 | area= small | maxDets=100 ] = 0.536\n",
      " Average Recall     (AR) @[ IoU=0.50:0.95 | area=medium | maxDets=100 ] = 0.748\n",
      " Average Recall     (AR) @[ IoU=0.50:0.95 | area= large | maxDets=100 ] = -1.000\n",
      "Epoch 11/50\n",
      "68/68 [==============================] - 33s 485ms/step - det_loss: 0.4972 - cls_loss: 0.3269 - box_loss: 0.0034 - reg_l2_loss: 0.0649 - loss: 0.5620 - learning_rate: 0.0178 - gradient_norm: 1.3384 - val_det_loss: 0.3970 - val_cls_loss: 0.3000 - val_box_loss: 0.0019 - val_reg_l2_loss: 0.0649 - val_loss: 0.4618\n",
      "Epoch 12/50\n",
      "68/68 [==============================] - 33s 487ms/step - det_loss: 0.5034 - cls_loss: 0.3272 - box_loss: 0.0035 - reg_l2_loss: 0.0649 - loss: 0.5683 - learning_rate: 0.0174 - gradient_norm: 1.4162 - val_det_loss: 0.3854 - val_cls_loss: 0.2909 - val_box_loss: 0.0019 - val_reg_l2_loss: 0.0649 - val_loss: 0.4502\n",
      "Epoch 13/50\n",
      "68/68 [==============================] - 34s 495ms/step - det_loss: 0.4796 - cls_loss: 0.3159 - box_loss: 0.0033 - reg_l2_loss: 0.0649 - loss: 0.5445 - learning_rate: 0.0170 - gradient_norm: 1.3499 - val_det_loss: 0.4080 - val_cls_loss: 0.2849 - val_box_loss: 0.0025 - val_reg_l2_loss: 0.0649 - val_loss: 0.4729\n",
      "Epoch 14/50\n",
      "68/68 [==============================] - 34s 506ms/step - det_loss: 0.4717 - cls_loss: 0.3060 - box_loss: 0.0033 - reg_l2_loss: 0.0649 - loss: 0.5366 - learning_rate: 0.0165 - gradient_norm: 1.3758 - val_det_loss: 0.3848 - val_cls_loss: 0.2709 - val_box_loss: 0.0023 - val_reg_l2_loss: 0.0649 - val_loss: 0.4497\n",
      "Epoch 15/50\n",
      "68/68 [==============================] - 35s 518ms/step - det_loss: 0.4632 - cls_loss: 0.3007 - box_loss: 0.0032 - reg_l2_loss: 0.0649 - loss: 0.5281 - learning_rate: 0.0160 - gradient_norm: 1.3563 - val_det_loss: 0.3341 - val_cls_loss: 0.2429 - val_box_loss: 0.0018 - val_reg_l2_loss: 0.0649 - val_loss: 0.3989\n",
      "loading annotations into memory...\n",
      "Done (t=0.00s)\n",
      "creating index...\n",
      "index created!\n",
      "Loading and preparing results...\n",
      "Converting ndarray to lists...\n",
      "(4800, 7)\n",
      "0/4800\n",
      "DONE (t=0.02s)\n",
      "creating index...\n",
      "index created!\n",
      "Running per image evaluation...\n",
      "Evaluate annotation type *bbox*\n",
      "DONE (t=0.62s).\n",
      "Accumulating evaluation results...\n",
      "DONE (t=0.15s).\n",
      " Average Precision  (AP) @[ IoU=0.50:0.95 | area=   all | maxDets=100 ] = 0.557\n",
      " Average Precision  (AP) @[ IoU=0.50      | area=   all | maxDets=100 ] = 0.852\n",
      " Average Precision  (AP) @[ IoU=0.75      | area=   all | maxDets=100 ] = 0.669\n",
      " Average Precision  (AP) @[ IoU=0.50:0.95 | area= small | maxDets=100 ] = 0.500\n",
      " Average Precision  (AP) @[ IoU=0.50:0.95 | area=medium | maxDets=100 ] = 0.659\n",
      " Average Precision  (AP) @[ IoU=0.50:0.95 | area= large | maxDets=100 ] = -1.000\n",
      " Average Recall     (AR) @[ IoU=0.50:0.95 | area=   all | maxDets=  1 ] = 0.402\n",
      " Average Recall     (AR) @[ IoU=0.50:0.95 | area=   all | maxDets= 10 ] = 0.675\n",
      " Average Recall     (AR) @[ IoU=0.50:0.95 | area=   all | maxDets=100 ] = 0.682\n",
      " Average Recall     (AR) @[ IoU=0.50:0.95 | area= small | maxDets=100 ] = 0.632\n",
      " Average Recall     (AR) @[ IoU=0.50:0.95 | area=medium | maxDets=100 ] = 0.765\n",
      " Average Recall     (AR) @[ IoU=0.50:0.95 | area= large | maxDets=100 ] = -1.000\n",
      "Epoch 16/50\n"
     ]
    },
    {
     "name": "stdout",
     "output_type": "stream",
     "text": [
      "68/68 [==============================] - 34s 502ms/step - det_loss: 0.4540 - cls_loss: 0.2925 - box_loss: 0.0032 - reg_l2_loss: 0.0649 - loss: 0.5189 - learning_rate: 0.0155 - gradient_norm: 1.3257 - val_det_loss: 0.3823 - val_cls_loss: 0.2588 - val_box_loss: 0.0025 - val_reg_l2_loss: 0.0649 - val_loss: 0.4472\n",
      "Epoch 17/50\n",
      "68/68 [==============================] - 34s 507ms/step - det_loss: 0.4566 - cls_loss: 0.2960 - box_loss: 0.0032 - reg_l2_loss: 0.0649 - loss: 0.5215 - learning_rate: 0.0149 - gradient_norm: 1.3487 - val_det_loss: 0.3497 - val_cls_loss: 0.2512 - val_box_loss: 0.0020 - val_reg_l2_loss: 0.0649 - val_loss: 0.4146\n",
      "Epoch 18/50\n",
      "68/68 [==============================] - 35s 511ms/step - det_loss: 0.4552 - cls_loss: 0.2926 - box_loss: 0.0033 - reg_l2_loss: 0.0649 - loss: 0.5201 - learning_rate: 0.0143 - gradient_norm: 1.3349 - val_det_loss: 0.3260 - val_cls_loss: 0.2303 - val_box_loss: 0.0019 - val_reg_l2_loss: 0.0649 - val_loss: 0.3909\n",
      "Epoch 19/50\n",
      "68/68 [==============================] - 35s 508ms/step - det_loss: 0.4357 - cls_loss: 0.2803 - box_loss: 0.0031 - reg_l2_loss: 0.0649 - loss: 0.5006 - learning_rate: 0.0138 - gradient_norm: 1.2950 - val_det_loss: 0.3304 - val_cls_loss: 0.2385 - val_box_loss: 0.0018 - val_reg_l2_loss: 0.0649 - val_loss: 0.3952\n",
      "Epoch 20/50\n",
      "68/68 [==============================] - 35s 499ms/step - det_loss: 0.4396 - cls_loss: 0.2817 - box_loss: 0.0032 - reg_l2_loss: 0.0649 - loss: 0.5044 - learning_rate: 0.0132 - gradient_norm: 1.3593 - val_det_loss: 0.3329 - val_cls_loss: 0.2403 - val_box_loss: 0.0019 - val_reg_l2_loss: 0.0649 - val_loss: 0.3978\n",
      "loading annotations into memory...\n",
      "Done (t=0.00s)\n",
      "creating index...\n",
      "index created!\n",
      "Loading and preparing results...\n",
      "Converting ndarray to lists...\n",
      "(4800, 7)\n",
      "0/4800\n",
      "DONE (t=0.02s)\n",
      "creating index...\n",
      "index created!\n",
      "Running per image evaluation...\n",
      "Evaluate annotation type *bbox*\n",
      "DONE (t=0.68s).\n",
      "Accumulating evaluation results...\n",
      "DONE (t=0.13s).\n",
      " Average Precision  (AP) @[ IoU=0.50:0.95 | area=   all | maxDets=100 ] = 0.551\n",
      " Average Precision  (AP) @[ IoU=0.50      | area=   all | maxDets=100 ] = 0.861\n",
      " Average Precision  (AP) @[ IoU=0.75      | area=   all | maxDets=100 ] = 0.634\n",
      " Average Precision  (AP) @[ IoU=0.50:0.95 | area= small | maxDets=100 ] = 0.511\n",
      " Average Precision  (AP) @[ IoU=0.50:0.95 | area=medium | maxDets=100 ] = 0.636\n",
      " Average Precision  (AP) @[ IoU=0.50:0.95 | area= large | maxDets=100 ] = -1.000\n",
      " Average Recall     (AR) @[ IoU=0.50:0.95 | area=   all | maxDets=  1 ] = 0.410\n",
      " Average Recall     (AR) @[ IoU=0.50:0.95 | area=   all | maxDets= 10 ] = 0.673\n",
      " Average Recall     (AR) @[ IoU=0.50:0.95 | area=   all | maxDets=100 ] = 0.680\n",
      " Average Recall     (AR) @[ IoU=0.50:0.95 | area= small | maxDets=100 ] = 0.640\n",
      " Average Recall     (AR) @[ IoU=0.50:0.95 | area=medium | maxDets=100 ] = 0.752\n",
      " Average Recall     (AR) @[ IoU=0.50:0.95 | area= large | maxDets=100 ] = -1.000\n",
      "Epoch 21/50\n",
      "68/68 [==============================] - 34s 505ms/step - det_loss: 0.4331 - cls_loss: 0.2788 - box_loss: 0.0031 - reg_l2_loss: 0.0649 - loss: 0.4980 - learning_rate: 0.0125 - gradient_norm: 1.3401 - val_det_loss: 0.3208 - val_cls_loss: 0.2277 - val_box_loss: 0.0019 - val_reg_l2_loss: 0.0649 - val_loss: 0.3857\n",
      "Epoch 22/50\n",
      "68/68 [==============================] - 34s 500ms/step - det_loss: 0.4343 - cls_loss: 0.2783 - box_loss: 0.0031 - reg_l2_loss: 0.0649 - loss: 0.4992 - learning_rate: 0.0119 - gradient_norm: 1.3137 - val_det_loss: 0.3494 - val_cls_loss: 0.2283 - val_box_loss: 0.0024 - val_reg_l2_loss: 0.0648 - val_loss: 0.4142\n",
      "Epoch 23/50\n",
      "68/68 [==============================] - 33s 486ms/step - det_loss: 0.4216 - cls_loss: 0.2727 - box_loss: 0.0030 - reg_l2_loss: 0.0648 - loss: 0.4865 - learning_rate: 0.0113 - gradient_norm: 1.2977 - val_det_loss: 0.3039 - val_cls_loss: 0.2183 - val_box_loss: 0.0017 - val_reg_l2_loss: 0.0648 - val_loss: 0.3687\n",
      "Epoch 24/50\n",
      "68/68 [==============================] - 33s 481ms/step - det_loss: 0.4327 - cls_loss: 0.2772 - box_loss: 0.0031 - reg_l2_loss: 0.0648 - loss: 0.4975 - learning_rate: 0.0106 - gradient_norm: 1.3194 - val_det_loss: 0.2999 - val_cls_loss: 0.2196 - val_box_loss: 0.0016 - val_reg_l2_loss: 0.0648 - val_loss: 0.3647\n",
      "Epoch 25/50\n",
      "68/68 [==============================] - 34s 503ms/step - det_loss: 0.4164 - cls_loss: 0.2682 - box_loss: 0.0030 - reg_l2_loss: 0.0648 - loss: 0.4812 - learning_rate: 0.0100 - gradient_norm: 1.2706 - val_det_loss: 0.3196 - val_cls_loss: 0.2270 - val_box_loss: 0.0019 - val_reg_l2_loss: 0.0648 - val_loss: 0.3844\n",
      "loading annotations into memory...\n",
      "Done (t=0.00s)\n",
      "creating index...\n",
      "index created!\n",
      "Loading and preparing results...\n",
      "Converting ndarray to lists...\n",
      "(4800, 7)\n",
      "0/4800\n",
      "DONE (t=0.02s)\n",
      "creating index...\n",
      "index created!\n",
      "Running per image evaluation...\n",
      "Evaluate annotation type *bbox*\n",
      "DONE (t=0.59s).\n",
      "Accumulating evaluation results...\n",
      "DONE (t=0.15s).\n",
      " Average Precision  (AP) @[ IoU=0.50:0.95 | area=   all | maxDets=100 ] = 0.576\n",
      " Average Precision  (AP) @[ IoU=0.50      | area=   all | maxDets=100 ] = 0.882\n",
      " Average Precision  (AP) @[ IoU=0.75      | area=   all | maxDets=100 ] = 0.674\n",
      " Average Precision  (AP) @[ IoU=0.50:0.95 | area= small | maxDets=100 ] = 0.546\n",
      " Average Precision  (AP) @[ IoU=0.50:0.95 | area=medium | maxDets=100 ] = 0.642\n",
      " Average Precision  (AP) @[ IoU=0.50:0.95 | area= large | maxDets=100 ] = -1.000\n",
      " Average Recall     (AR) @[ IoU=0.50:0.95 | area=   all | maxDets=  1 ] = 0.411\n",
      " Average Recall     (AR) @[ IoU=0.50:0.95 | area=   all | maxDets= 10 ] = 0.691\n",
      " Average Recall     (AR) @[ IoU=0.50:0.95 | area=   all | maxDets=100 ] = 0.698\n",
      " Average Recall     (AR) @[ IoU=0.50:0.95 | area= small | maxDets=100 ] = 0.667\n",
      " Average Recall     (AR) @[ IoU=0.50:0.95 | area=medium | maxDets=100 ] = 0.759\n",
      " Average Recall     (AR) @[ IoU=0.50:0.95 | area= large | maxDets=100 ] = -1.000\n",
      "Epoch 26/50\n",
      "68/68 [==============================] - 34s 497ms/step - det_loss: 0.4075 - cls_loss: 0.2642 - box_loss: 0.0029 - reg_l2_loss: 0.0648 - loss: 0.4723 - learning_rate: 0.0094 - gradient_norm: 1.2512 - val_det_loss: 0.3069 - val_cls_loss: 0.2194 - val_box_loss: 0.0017 - val_reg_l2_loss: 0.0648 - val_loss: 0.3717\n",
      "Epoch 27/50\n",
      "68/68 [==============================] - 34s 507ms/step - det_loss: 0.4070 - cls_loss: 0.2635 - box_loss: 0.0029 - reg_l2_loss: 0.0648 - loss: 0.4718 - learning_rate: 0.0087 - gradient_norm: 1.2650 - val_det_loss: 0.3003 - val_cls_loss: 0.2154 - val_box_loss: 0.0017 - val_reg_l2_loss: 0.0648 - val_loss: 0.3650\n",
      "Epoch 28/50\n",
      "68/68 [==============================] - 32s 473ms/step - det_loss: 0.4062 - cls_loss: 0.2628 - box_loss: 0.0029 - reg_l2_loss: 0.0648 - loss: 0.4709 - learning_rate: 0.0081 - gradient_norm: 1.2469 - val_det_loss: 0.3258 - val_cls_loss: 0.2301 - val_box_loss: 0.0019 - val_reg_l2_loss: 0.0648 - val_loss: 0.3905\n",
      "Epoch 29/50\n",
      "68/68 [==============================] - 32s 476ms/step - det_loss: 0.3961 - cls_loss: 0.2564 - box_loss: 0.0028 - reg_l2_loss: 0.0648 - loss: 0.4608 - learning_rate: 0.0075 - gradient_norm: 1.1908 - val_det_loss: 0.2941 - val_cls_loss: 0.2130 - val_box_loss: 0.0016 - val_reg_l2_loss: 0.0648 - val_loss: 0.3588\n",
      "Epoch 30/50\n",
      "68/68 [==============================] - 32s 478ms/step - det_loss: 0.3940 - cls_loss: 0.2522 - box_loss: 0.0028 - reg_l2_loss: 0.0647 - loss: 0.4587 - learning_rate: 0.0068 - gradient_norm: 1.2566 - val_det_loss: 0.2897 - val_cls_loss: 0.2072 - val_box_loss: 0.0017 - val_reg_l2_loss: 0.0647 - val_loss: 0.3545\n",
      "loading annotations into memory...\n",
      "Done (t=0.00s)\n",
      "creating index...\n",
      "index created!\n",
      "Loading and preparing results...\n",
      "Converting ndarray to lists...\n",
      "(4800, 7)\n",
      "0/4800\n",
      "DONE (t=0.02s)\n",
      "creating index...\n",
      "index created!\n",
      "Running per image evaluation...\n",
      "Evaluate annotation type *bbox*\n",
      "DONE (t=0.53s).\n",
      "Accumulating evaluation results...\n",
      "DONE (t=0.14s).\n",
      " Average Precision  (AP) @[ IoU=0.50:0.95 | area=   all | maxDets=100 ] = 0.605\n",
      " Average Precision  (AP) @[ IoU=0.50      | area=   all | maxDets=100 ] = 0.891\n",
      " Average Precision  (AP) @[ IoU=0.75      | area=   all | maxDets=100 ] = 0.730\n",
      " Average Precision  (AP) @[ IoU=0.50:0.95 | area= small | maxDets=100 ] = 0.560\n",
      " Average Precision  (AP) @[ IoU=0.50:0.95 | area=medium | maxDets=100 ] = 0.694\n",
      " Average Precision  (AP) @[ IoU=0.50:0.95 | area= large | maxDets=100 ] = -1.000\n",
      " Average Recall     (AR) @[ IoU=0.50:0.95 | area=   all | maxDets=  1 ] = 0.420\n",
      " Average Recall     (AR) @[ IoU=0.50:0.95 | area=   all | maxDets= 10 ] = 0.711\n",
      " Average Recall     (AR) @[ IoU=0.50:0.95 | area=   all | maxDets=100 ] = 0.715\n",
      " Average Recall     (AR) @[ IoU=0.50:0.95 | area= small | maxDets=100 ] = 0.676\n",
      " Average Recall     (AR) @[ IoU=0.50:0.95 | area=medium | maxDets=100 ] = 0.786\n",
      " Average Recall     (AR) @[ IoU=0.50:0.95 | area= large | maxDets=100 ] = -1.000\n",
      "Epoch 31/50\n"
     ]
    },
    {
     "name": "stdout",
     "output_type": "stream",
     "text": [
      "68/68 [==============================] - 32s 477ms/step - det_loss: 0.3946 - cls_loss: 0.2556 - box_loss: 0.0028 - reg_l2_loss: 0.0647 - loss: 0.4594 - learning_rate: 0.0062 - gradient_norm: 1.2843 - val_det_loss: 0.3013 - val_cls_loss: 0.2079 - val_box_loss: 0.0019 - val_reg_l2_loss: 0.0647 - val_loss: 0.3661\n",
      "Epoch 32/50\n",
      "68/68 [==============================] - 32s 477ms/step - det_loss: 0.3969 - cls_loss: 0.2578 - box_loss: 0.0028 - reg_l2_loss: 0.0647 - loss: 0.4617 - learning_rate: 0.0057 - gradient_norm: 1.2614 - val_det_loss: 0.2901 - val_cls_loss: 0.2143 - val_box_loss: 0.0015 - val_reg_l2_loss: 0.0647 - val_loss: 0.3549\n",
      "Epoch 33/50\n",
      "68/68 [==============================] - 33s 485ms/step - det_loss: 0.3915 - cls_loss: 0.2536 - box_loss: 0.0028 - reg_l2_loss: 0.0647 - loss: 0.4562 - learning_rate: 0.0051 - gradient_norm: 1.2550 - val_det_loss: 0.2970 - val_cls_loss: 0.2121 - val_box_loss: 0.0017 - val_reg_l2_loss: 0.0647 - val_loss: 0.3617\n",
      "Epoch 34/50\n",
      "68/68 [==============================] - 33s 493ms/step - det_loss: 0.3888 - cls_loss: 0.2499 - box_loss: 0.0028 - reg_l2_loss: 0.0647 - loss: 0.4535 - learning_rate: 0.0045 - gradient_norm: 1.2529 - val_det_loss: 0.3046 - val_cls_loss: 0.2149 - val_box_loss: 0.0018 - val_reg_l2_loss: 0.0647 - val_loss: 0.3693\n",
      "Epoch 35/50\n",
      "68/68 [==============================] - 34s 493ms/step - det_loss: 0.3817 - cls_loss: 0.2465 - box_loss: 0.0027 - reg_l2_loss: 0.0647 - loss: 0.4464 - learning_rate: 0.0040 - gradient_norm: 1.2370 - val_det_loss: 0.2864 - val_cls_loss: 0.2083 - val_box_loss: 0.0016 - val_reg_l2_loss: 0.0647 - val_loss: 0.3511\n",
      "loading annotations into memory...\n",
      "Done (t=0.00s)\n",
      "creating index...\n",
      "index created!\n",
      "Loading and preparing results...\n",
      "Converting ndarray to lists...\n",
      "(4800, 7)\n",
      "0/4800\n",
      "DONE (t=0.02s)\n",
      "creating index...\n",
      "index created!\n",
      "Running per image evaluation...\n",
      "Evaluate annotation type *bbox*\n",
      "DONE (t=0.56s).\n",
      "Accumulating evaluation results...\n",
      "DONE (t=0.14s).\n",
      " Average Precision  (AP) @[ IoU=0.50:0.95 | area=   all | maxDets=100 ] = 0.605\n",
      " Average Precision  (AP) @[ IoU=0.50      | area=   all | maxDets=100 ] = 0.891\n",
      " Average Precision  (AP) @[ IoU=0.75      | area=   all | maxDets=100 ] = 0.737\n",
      " Average Precision  (AP) @[ IoU=0.50:0.95 | area= small | maxDets=100 ] = 0.553\n",
      " Average Precision  (AP) @[ IoU=0.50:0.95 | area=medium | maxDets=100 ] = 0.698\n",
      " Average Precision  (AP) @[ IoU=0.50:0.95 | area= large | maxDets=100 ] = -1.000\n",
      " Average Recall     (AR) @[ IoU=0.50:0.95 | area=   all | maxDets=  1 ] = 0.431\n",
      " Average Recall     (AR) @[ IoU=0.50:0.95 | area=   all | maxDets= 10 ] = 0.710\n",
      " Average Recall     (AR) @[ IoU=0.50:0.95 | area=   all | maxDets=100 ] = 0.718\n",
      " Average Recall     (AR) @[ IoU=0.50:0.95 | area= small | maxDets=100 ] = 0.677\n",
      " Average Recall     (AR) @[ IoU=0.50:0.95 | area=medium | maxDets=100 ] = 0.784\n",
      " Average Recall     (AR) @[ IoU=0.50:0.95 | area= large | maxDets=100 ] = -1.000\n",
      "Epoch 36/50\n",
      "68/68 [==============================] - 33s 488ms/step - det_loss: 0.3850 - cls_loss: 0.2483 - box_loss: 0.0027 - reg_l2_loss: 0.0647 - loss: 0.4497 - learning_rate: 0.0035 - gradient_norm: 1.2777 - val_det_loss: 0.2854 - val_cls_loss: 0.2069 - val_box_loss: 0.0016 - val_reg_l2_loss: 0.0647 - val_loss: 0.3501\n",
      "Epoch 37/50\n",
      "68/68 [==============================] - 34s 497ms/step - det_loss: 0.3822 - cls_loss: 0.2464 - box_loss: 0.0027 - reg_l2_loss: 0.0647 - loss: 0.4469 - learning_rate: 0.0030 - gradient_norm: 1.3017 - val_det_loss: 0.2821 - val_cls_loss: 0.2028 - val_box_loss: 0.0016 - val_reg_l2_loss: 0.0647 - val_loss: 0.3467\n",
      "Epoch 38/50\n",
      "68/68 [==============================] - 34s 500ms/step - det_loss: 0.3831 - cls_loss: 0.2470 - box_loss: 0.0027 - reg_l2_loss: 0.0647 - loss: 0.4477 - learning_rate: 0.0026 - gradient_norm: 1.2912 - val_det_loss: 0.2871 - val_cls_loss: 0.2089 - val_box_loss: 0.0016 - val_reg_l2_loss: 0.0647 - val_loss: 0.3517\n",
      "Epoch 39/50\n",
      "68/68 [==============================] - 34s 495ms/step - det_loss: 0.3856 - cls_loss: 0.2504 - box_loss: 0.0027 - reg_l2_loss: 0.0647 - loss: 0.4503 - learning_rate: 0.0022 - gradient_norm: 1.2745 - val_det_loss: 0.2868 - val_cls_loss: 0.2067 - val_box_loss: 0.0016 - val_reg_l2_loss: 0.0647 - val_loss: 0.3515\n",
      "Epoch 40/50\n",
      "68/68 [==============================] - 33s 489ms/step - det_loss: 0.3766 - cls_loss: 0.2474 - box_loss: 0.0026 - reg_l2_loss: 0.0647 - loss: 0.4412 - learning_rate: 0.0018 - gradient_norm: 1.2650 - val_det_loss: 0.2969 - val_cls_loss: 0.2127 - val_box_loss: 0.0017 - val_reg_l2_loss: 0.0647 - val_loss: 0.3616\n",
      "loading annotations into memory...\n",
      "Done (t=0.00s)\n",
      "creating index...\n",
      "index created!\n",
      "Loading and preparing results...\n",
      "Converting ndarray to lists...\n",
      "(4800, 7)\n",
      "0/4800\n",
      "DONE (t=0.02s)\n",
      "creating index...\n",
      "index created!\n",
      "Running per image evaluation...\n",
      "Evaluate annotation type *bbox*\n",
      "DONE (t=0.56s).\n",
      "Accumulating evaluation results...\n",
      "DONE (t=0.14s).\n",
      " Average Precision  (AP) @[ IoU=0.50:0.95 | area=   all | maxDets=100 ] = 0.606\n",
      " Average Precision  (AP) @[ IoU=0.50      | area=   all | maxDets=100 ] = 0.891\n",
      " Average Precision  (AP) @[ IoU=0.75      | area=   all | maxDets=100 ] = 0.745\n",
      " Average Precision  (AP) @[ IoU=0.50:0.95 | area= small | maxDets=100 ] = 0.562\n",
      " Average Precision  (AP) @[ IoU=0.50:0.95 | area=medium | maxDets=100 ] = 0.700\n",
      " Average Precision  (AP) @[ IoU=0.50:0.95 | area= large | maxDets=100 ] = -1.000\n",
      " Average Recall     (AR) @[ IoU=0.50:0.95 | area=   all | maxDets=  1 ] = 0.424\n",
      " Average Recall     (AR) @[ IoU=0.50:0.95 | area=   all | maxDets= 10 ] = 0.712\n",
      " Average Recall     (AR) @[ IoU=0.50:0.95 | area=   all | maxDets=100 ] = 0.717\n",
      " Average Recall     (AR) @[ IoU=0.50:0.95 | area= small | maxDets=100 ] = 0.688\n",
      " Average Recall     (AR) @[ IoU=0.50:0.95 | area=medium | maxDets=100 ] = 0.780\n",
      " Average Recall     (AR) @[ IoU=0.50:0.95 | area= large | maxDets=100 ] = -1.000\n",
      "Epoch 41/50\n",
      "68/68 [==============================] - 33s 489ms/step - det_loss: 0.3829 - cls_loss: 0.2467 - box_loss: 0.0027 - reg_l2_loss: 0.0646 - loss: 0.4475 - learning_rate: 0.0015 - gradient_norm: 1.3191 - val_det_loss: 0.2849 - val_cls_loss: 0.2049 - val_box_loss: 0.0016 - val_reg_l2_loss: 0.0646 - val_loss: 0.3496\n",
      "Epoch 42/50\n",
      "68/68 [==============================] - 33s 488ms/step - det_loss: 0.3661 - cls_loss: 0.2375 - box_loss: 0.0026 - reg_l2_loss: 0.0646 - loss: 0.4307 - learning_rate: 0.0011 - gradient_norm: 1.1845 - val_det_loss: 0.2886 - val_cls_loss: 0.2085 - val_box_loss: 0.0016 - val_reg_l2_loss: 0.0646 - val_loss: 0.3532\n",
      "Epoch 43/50\n",
      "68/68 [==============================] - 33s 490ms/step - det_loss: 0.3743 - cls_loss: 0.2441 - box_loss: 0.0026 - reg_l2_loss: 0.0646 - loss: 0.4389 - learning_rate: 8.5754e-04 - gradient_norm: 1.2158 - val_det_loss: 0.2836 - val_cls_loss: 0.2054 - val_box_loss: 0.0016 - val_reg_l2_loss: 0.0646 - val_loss: 0.3482\n",
      "Epoch 44/50\n",
      "68/68 [==============================] - 37s 548ms/step - det_loss: 0.3797 - cls_loss: 0.2486 - box_loss: 0.0026 - reg_l2_loss: 0.0646 - loss: 0.4443 - learning_rate: 6.1701e-04 - gradient_norm: 1.2900 - val_det_loss: 0.2875 - val_cls_loss: 0.2070 - val_box_loss: 0.0016 - val_reg_l2_loss: 0.0646 - val_loss: 0.3521\n",
      "Epoch 45/50\n",
      "68/68 [==============================] - 38s 555ms/step - det_loss: 0.3768 - cls_loss: 0.2440 - box_loss: 0.0027 - reg_l2_loss: 0.0646 - loss: 0.4415 - learning_rate: 4.1505e-04 - gradient_norm: 1.2271 - val_det_loss: 0.2836 - val_cls_loss: 0.2047 - val_box_loss: 0.0016 - val_reg_l2_loss: 0.0646 - val_loss: 0.3483\n",
      "loading annotations into memory...\n",
      "Done (t=0.00s)\n",
      "creating index...\n",
      "index created!\n",
      "Loading and preparing results...\n",
      "Converting ndarray to lists...\n",
      "(4800, 7)\n",
      "0/4800\n",
      "DONE (t=0.02s)\n",
      "creating index...\n",
      "index created!\n",
      "Running per image evaluation...\n",
      "Evaluate annotation type *bbox*\n",
      "DONE (t=0.57s).\n",
      "Accumulating evaluation results...\n",
      "DONE (t=0.15s).\n",
      " Average Precision  (AP) @[ IoU=0.50:0.95 | area=   all | maxDets=100 ] = 0.614\n",
      " Average Precision  (AP) @[ IoU=0.50      | area=   all | maxDets=100 ] = 0.893\n",
      " Average Precision  (AP) @[ IoU=0.75      | area=   all | maxDets=100 ] = 0.753\n",
      " Average Precision  (AP) @[ IoU=0.50:0.95 | area= small | maxDets=100 ] = 0.567\n",
      " Average Precision  (AP) @[ IoU=0.50:0.95 | area=medium | maxDets=100 ] = 0.712\n",
      " Average Precision  (AP) @[ IoU=0.50:0.95 | area= large | maxDets=100 ] = -1.000\n",
      " Average Recall     (AR) @[ IoU=0.50:0.95 | area=   all | maxDets=  1 ] = 0.430\n",
      " Average Recall     (AR) @[ IoU=0.50:0.95 | area=   all | maxDets= 10 ] = 0.720\n",
      " Average Recall     (AR) @[ IoU=0.50:0.95 | area=   all | maxDets=100 ] = 0.726\n",
      " Average Recall     (AR) @[ IoU=0.50:0.95 | area= small | maxDets=100 ] = 0.697\n",
      " Average Recall     (AR) @[ IoU=0.50:0.95 | area=medium | maxDets=100 ] = 0.791\n",
      " Average Recall     (AR) @[ IoU=0.50:0.95 | area= large | maxDets=100 ] = -1.000\n",
      "Epoch 46/50\n"
     ]
    },
    {
     "name": "stdout",
     "output_type": "stream",
     "text": [
      "68/68 [==============================] - 39s 567ms/step - det_loss: 0.3704 - cls_loss: 0.2407 - box_loss: 0.0026 - reg_l2_loss: 0.0646 - loss: 0.4351 - learning_rate: 2.5247e-04 - gradient_norm: 1.2062 - val_det_loss: 0.2869 - val_cls_loss: 0.2064 - val_box_loss: 0.0016 - val_reg_l2_loss: 0.0646 - val_loss: 0.3515\n",
      "Epoch 47/50\n",
      "68/68 [==============================] - 35s 516ms/step - det_loss: 0.3768 - cls_loss: 0.2437 - box_loss: 0.0027 - reg_l2_loss: 0.0646 - loss: 0.4414 - learning_rate: 1.2994e-04 - gradient_norm: 1.2714 - val_det_loss: 0.2870 - val_cls_loss: 0.2070 - val_box_loss: 0.0016 - val_reg_l2_loss: 0.0646 - val_loss: 0.3516\n",
      "Epoch 48/50\n",
      "68/68 [==============================] - 35s 518ms/step - det_loss: 0.3809 - cls_loss: 0.2445 - box_loss: 0.0027 - reg_l2_loss: 0.0646 - loss: 0.4455 - learning_rate: 4.7972e-05 - gradient_norm: 1.2594 - val_det_loss: 0.2855 - val_cls_loss: 0.2065 - val_box_loss: 0.0016 - val_reg_l2_loss: 0.0646 - val_loss: 0.3501\n",
      "Epoch 49/50\n",
      "68/68 [==============================] - 37s 545ms/step - det_loss: 0.3828 - cls_loss: 0.2474 - box_loss: 0.0027 - reg_l2_loss: 0.0646 - loss: 0.4474 - learning_rate: 6.9000e-06 - gradient_norm: 1.2492 - val_det_loss: 0.2852 - val_cls_loss: 0.2064 - val_box_loss: 0.0016 - val_reg_l2_loss: 0.0646 - val_loss: 0.3499\n",
      "Epoch 50/50\n",
      "68/68 [==============================] - 34s 495ms/step - det_loss: 0.3822 - cls_loss: 0.2469 - box_loss: 0.0027 - reg_l2_loss: 0.0646 - loss: 0.4469 - learning_rate: 6.8913e-06 - gradient_norm: 1.2942 - val_det_loss: 0.2851 - val_cls_loss: 0.2063 - val_box_loss: 0.0016 - val_reg_l2_loss: 0.0646 - val_loss: 0.3497\n",
      "loading annotations into memory...\n",
      "Done (t=0.00s)\n",
      "creating index...\n",
      "index created!\n",
      "Loading and preparing results...\n",
      "Converting ndarray to lists...\n",
      "(4800, 7)\n",
      "0/4800\n",
      "DONE (t=0.02s)\n",
      "creating index...\n",
      "index created!\n",
      "Running per image evaluation...\n",
      "Evaluate annotation type *bbox*\n",
      "DONE (t=0.54s).\n",
      "Accumulating evaluation results...\n",
      "DONE (t=0.13s).\n",
      " Average Precision  (AP) @[ IoU=0.50:0.95 | area=   all | maxDets=100 ] = 0.611\n",
      " Average Precision  (AP) @[ IoU=0.50      | area=   all | maxDets=100 ] = 0.897\n",
      " Average Precision  (AP) @[ IoU=0.75      | area=   all | maxDets=100 ] = 0.748\n",
      " Average Precision  (AP) @[ IoU=0.50:0.95 | area= small | maxDets=100 ] = 0.571\n",
      " Average Precision  (AP) @[ IoU=0.50:0.95 | area=medium | maxDets=100 ] = 0.705\n",
      " Average Precision  (AP) @[ IoU=0.50:0.95 | area= large | maxDets=100 ] = -1.000\n",
      " Average Recall     (AR) @[ IoU=0.50:0.95 | area=   all | maxDets=  1 ] = 0.429\n",
      " Average Recall     (AR) @[ IoU=0.50:0.95 | area=   all | maxDets= 10 ] = 0.716\n",
      " Average Recall     (AR) @[ IoU=0.50:0.95 | area=   all | maxDets=100 ] = 0.723\n",
      " Average Recall     (AR) @[ IoU=0.50:0.95 | area= small | maxDets=100 ] = 0.698\n",
      " Average Recall     (AR) @[ IoU=0.50:0.95 | area=medium | maxDets=100 ] = 0.784\n",
      " Average Recall     (AR) @[ IoU=0.50:0.95 | area= large | maxDets=100 ] = -1.000\n"
     ]
    }
   ],
   "source": [
    "model = object_detector.create(dataloader, model_spec=spec, validation_data = dataloader_test, epochs=50, batch_size=16, train_whole_model=True)"
   ]
  },
  {
   "cell_type": "code",
   "execution_count": 13,
   "metadata": {
    "id": "S6NiCdkVrS7a",
    "scrolled": false
   },
   "outputs": [
    {
     "name": "stdout",
     "output_type": "stream",
     "text": [
      "1/1 [==============================] - 15s 15s/step\n",
      "\n",
      "loading annotations into memory...\n",
      "Done (t=0.01s)\n",
      "creating index...\n",
      "index created!\n",
      "Loading and preparing results...\n",
      "Converting ndarray to lists...\n",
      "(5000, 7)\n",
      "0/5000\n",
      "DONE (t=0.02s)\n",
      "creating index...\n",
      "index created!\n",
      "Running per image evaluation...\n",
      "Evaluate annotation type *bbox*\n",
      "DONE (t=0.70s).\n",
      "Accumulating evaluation results...\n",
      "DONE (t=0.15s).\n",
      " Average Precision  (AP) @[ IoU=0.50:0.95 | area=   all | maxDets=100 ] = 0.496\n",
      " Average Precision  (AP) @[ IoU=0.50      | area=   all | maxDets=100 ] = 0.809\n",
      " Average Precision  (AP) @[ IoU=0.75      | area=   all | maxDets=100 ] = 0.555\n",
      " Average Precision  (AP) @[ IoU=0.50:0.95 | area= small | maxDets=100 ] = 0.412\n",
      " Average Precision  (AP) @[ IoU=0.50:0.95 | area=medium | maxDets=100 ] = 0.646\n",
      " Average Precision  (AP) @[ IoU=0.50:0.95 | area= large | maxDets=100 ] = 0.800\n",
      " Average Recall     (AR) @[ IoU=0.50:0.95 | area=   all | maxDets=  1 ] = 0.284\n",
      " Average Recall     (AR) @[ IoU=0.50:0.95 | area=   all | maxDets= 10 ] = 0.601\n",
      " Average Recall     (AR) @[ IoU=0.50:0.95 | area=   all | maxDets=100 ] = 0.612\n",
      " Average Recall     (AR) @[ IoU=0.50:0.95 | area= small | maxDets=100 ] = 0.540\n",
      " Average Recall     (AR) @[ IoU=0.50:0.95 | area=medium | maxDets=100 ] = 0.744\n",
      " Average Recall     (AR) @[ IoU=0.50:0.95 | area= large | maxDets=100 ] = 0.800\n"
     ]
    },
    {
     "data": {
      "text/plain": [
       "{'AP': 0.49628106,\n",
       " 'AP50': 0.8089694,\n",
       " 'AP75': 0.5550152,\n",
       " 'APs': 0.4124165,\n",
       " 'APm': 0.6459044,\n",
       " 'APl': 0.8,\n",
       " 'ARmax1': 0.28412136,\n",
       " 'ARmax10': 0.6014659,\n",
       " 'ARmax100': 0.61212534,\n",
       " 'ARs': 0.53996843,\n",
       " 'ARm': 0.7437328,\n",
       " 'ARl': 0.8,\n",
       " 'AP_/0': 0.61355597,\n",
       " 'AP_/1': 0.40803936,\n",
       " 'AP_/2': 0.5312875,\n",
       " 'AP_/3': 0.54719365,\n",
       " 'AP_/4': 0.49000797,\n",
       " 'AP_/5': 0.5328356,\n",
       " 'AP_/6': 0.46576825,\n",
       " 'AP_/7': 0.5806182,\n",
       " 'AP_/8': 0.56913036,\n",
       " 'AP_/9': 0.5865906,\n",
       " 'AP_/.': 0.13406421}"
      ]
     },
     "execution_count": 13,
     "metadata": {},
     "output_type": "execute_result"
    }
   ],
   "source": [
    "model.evaluate(dataloader_validation)"
   ]
  },
  {
   "cell_type": "code",
   "execution_count": null,
   "metadata": {
    "colab": {
     "base_uri": "https://localhost:8080/"
    },
    "id": "dcUsQ2KllizT",
    "outputId": "d69ff935-9bbb-4680-ddd8-eb363560906e"
   },
   "outputs": [],
   "source": [
    "model.export(export_dir='./model')"
   ]
  },
  {
   "cell_type": "code",
   "execution_count": null,
   "metadata": {},
   "outputs": [],
   "source": []
  }
 ],
 "metadata": {
  "colab": {
   "name": "Tflite.ipynb",
   "provenance": []
  },
  "kernelspec": {
   "display_name": "Python 3",
   "language": "python",
   "name": "python3"
  },
  "language_info": {
   "codemirror_mode": {
    "name": "ipython",
    "version": 3
   },
   "file_extension": ".py",
   "mimetype": "text/x-python",
   "name": "python",
   "nbconvert_exporter": "python",
   "pygments_lexer": "ipython3",
   "version": "3.8.6"
  }
 },
 "nbformat": 4,
 "nbformat_minor": 1
}
