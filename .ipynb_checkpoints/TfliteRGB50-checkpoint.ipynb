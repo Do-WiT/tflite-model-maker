{
 "cells": [
  {
   "cell_type": "code",
   "execution_count": null,
   "metadata": {},
   "outputs": [],
   "source": [
    "!pip install -q tensorflow-gpu==2.5.0\n",
    "!pip install -q tensorflow==2.5.0\n",
    "!pip install -q --use-deprecated=legacy-resolver tflite-model-maker\n",
    "!pip install -q pycocotools"
   ]
  },
  {
   "cell_type": "code",
   "execution_count": 1,
   "metadata": {
    "id": "QVMeWD3VlJLu"
   },
   "outputs": [],
   "source": [
    "import numpy as np\n",
    "import os\n",
    "import tensorflow as tf\n",
    "\n",
    "from tflite_model_maker.config import ExportFormat\n",
    "from tflite_model_maker import model_spec\n",
    "from tflite_model_maker import object_detector"
   ]
  },
  {
   "cell_type": "code",
   "execution_count": 2,
   "metadata": {
    "id": "UQjE8yQ4loxW"
   },
   "outputs": [],
   "source": [
    "labels = ['0', '1', '2', '3', '4', '5', '6', '7', '8', '9', '.']"
   ]
  },
  {
   "cell_type": "code",
   "execution_count": 3,
   "metadata": {
    "id": "thZmwxO-lr8e"
   },
   "outputs": [],
   "source": [
    "spec = model_spec.get('efficientdet_lite0')"
   ]
  },
  {
   "cell_type": "code",
   "execution_count": 4,
   "metadata": {
    "id": "Q17Tv7zMltth"
   },
   "outputs": [],
   "source": [
    "path = 'C:\\\\Users\\\\eiwte\\\\Desktop\\\\TrainAI\\\\dataset_rgb\\\\dataset'"
   ]
  },
  {
   "cell_type": "code",
   "execution_count": 5,
   "metadata": {},
   "outputs": [],
   "source": [
    "path_test = 'C:\\\\Users\\\\eiwte\\\\Desktop\\\\TrainAI\\\\dataset_rgb\\\\dataset_test'"
   ]
  },
  {
   "cell_type": "code",
   "execution_count": 6,
   "metadata": {},
   "outputs": [],
   "source": [
    "path_validation = 'C:\\\\Users\\\\eiwte\\\\Desktop\\\\TrainAI\\\\dataset_rgb\\\\dataset_validation'"
   ]
  },
  {
   "cell_type": "code",
   "execution_count": 7,
   "metadata": {
    "id": "DIaUNP4Wl5q0",
    "scrolled": false
   },
   "outputs": [
    {
     "name": "stdout",
     "output_type": "stream",
     "text": [
      "INFO:tensorflow:Cache will be stored in C:\\Users\\eiwte\\AppData\\Local\\Temp\\tmpyvrc47dq with prefix filename f47ea991c744852930363a7212e2d8e4. Cache_prefix is C:\\Users\\eiwte\\AppData\\Local\\Temp\\tmpyvrc47dq\\f47ea991c744852930363a7212e2d8e4\n",
      "INFO:tensorflow:On image 0\n",
      "INFO:tensorflow:On image 100\n",
      "INFO:tensorflow:On image 200\n",
      "INFO:tensorflow:On image 300\n",
      "INFO:tensorflow:On image 400\n",
      "INFO:tensorflow:On image 500\n",
      "INFO:tensorflow:On image 600\n",
      "INFO:tensorflow:On image 700\n",
      "INFO:tensorflow:On image 800\n",
      "INFO:tensorflow:On image 900\n",
      "INFO:tensorflow:On image 1000\n"
     ]
    }
   ],
   "source": [
    "dataloader = object_detector.DataLoader.from_pascal_voc(path,path ,labels)"
   ]
  },
  {
   "cell_type": "code",
   "execution_count": 8,
   "metadata": {
    "scrolled": true
   },
   "outputs": [
    {
     "name": "stdout",
     "output_type": "stream",
     "text": [
      "INFO:tensorflow:Cache will be stored in C:\\Users\\eiwte\\AppData\\Local\\Temp\\tmp6bcb8s2b with prefix filename a912ef79f12e325971524c789aac7847. Cache_prefix is C:\\Users\\eiwte\\AppData\\Local\\Temp\\tmp6bcb8s2b\\a912ef79f12e325971524c789aac7847\n",
      "INFO:tensorflow:On image 0\n"
     ]
    }
   ],
   "source": [
    "dataloader_test = object_detector.DataLoader.from_pascal_voc(path_test, path_test ,labels)"
   ]
  },
  {
   "cell_type": "code",
   "execution_count": 9,
   "metadata": {},
   "outputs": [
    {
     "name": "stdout",
     "output_type": "stream",
     "text": [
      "INFO:tensorflow:Cache will be stored in C:\\Users\\eiwte\\AppData\\Local\\Temp\\tmpqqalk3te with prefix filename 7cbdf808015c50475210392943eb51ae. Cache_prefix is C:\\Users\\eiwte\\AppData\\Local\\Temp\\tmpqqalk3te\\7cbdf808015c50475210392943eb51ae\n",
      "INFO:tensorflow:On image 0\n"
     ]
    }
   ],
   "source": [
    "dataloader_validation = object_detector.DataLoader.from_pascal_voc(path_validation, path_validation ,labels)"
   ]
  },
  {
   "cell_type": "code",
   "execution_count": 10,
   "metadata": {
    "id": "3Z6cB9otl9F-"
   },
   "outputs": [
    {
     "name": "stdout",
     "output_type": "stream",
     "text": [
      "INFO:tensorflow:Retraining the models...\n",
      "WARNING:tensorflow:From C:\\Users\\eiwte\\anaconda3\\lib\\site-packages\\tensorflow\\python\\ops\\array_ops.py:5043: calling gather (from tensorflow.python.ops.array_ops) with validate_indices is deprecated and will be removed in a future version.\n",
      "Instructions for updating:\n",
      "The `validate_indices` argument has no effect. Indices are always validated on CPU and never validated on GPU.\n"
     ]
    },
    {
     "name": "stderr",
     "output_type": "stream",
     "text": [
      "WARNING:tensorflow:From C:\\Users\\eiwte\\anaconda3\\lib\\site-packages\\tensorflow\\python\\ops\\array_ops.py:5043: calling gather (from tensorflow.python.ops.array_ops) with validate_indices is deprecated and will be removed in a future version.\n",
      "Instructions for updating:\n",
      "The `validate_indices` argument has no effect. Indices are always validated on CPU and never validated on GPU.\n"
     ]
    },
    {
     "name": "stdout",
     "output_type": "stream",
     "text": [
      "Epoch 1/50\n",
      "68/68 [==============================] - 62s 470ms/step - det_loss: 1.5891 - cls_loss: 1.0405 - box_loss: 0.0110 - reg_l2_loss: 0.0646 - loss: 1.6537 - learning_rate: 0.0140 - gradient_norm: 0.9224 - val_det_loss: 1.1486 - val_cls_loss: 0.8619 - val_box_loss: 0.0057 - val_reg_l2_loss: 0.0646 - val_loss: 1.2133\n",
      "Epoch 2/50\n",
      "68/68 [==============================] - 27s 390ms/step - det_loss: 0.9892 - cls_loss: 0.6885 - box_loss: 0.0060 - reg_l2_loss: 0.0647 - loss: 1.0539 - learning_rate: 0.0200 - gradient_norm: 1.3134 - val_det_loss: 0.9195 - val_cls_loss: 0.6241 - val_box_loss: 0.0059 - val_reg_l2_loss: 0.0647 - val_loss: 0.9842\n",
      "Epoch 3/50\n",
      "68/68 [==============================] - 29s 423ms/step - det_loss: 0.8231 - cls_loss: 0.5837 - box_loss: 0.0048 - reg_l2_loss: 0.0647 - loss: 0.8878 - learning_rate: 0.0199 - gradient_norm: 1.3274 - val_det_loss: 0.6841 - val_cls_loss: 0.5198 - val_box_loss: 0.0033 - val_reg_l2_loss: 0.0647 - val_loss: 0.7488\n",
      "Epoch 4/50\n",
      "68/68 [==============================] - 29s 422ms/step - det_loss: 0.7311 - cls_loss: 0.5220 - box_loss: 0.0042 - reg_l2_loss: 0.0647 - loss: 0.7958 - learning_rate: 0.0197 - gradient_norm: 1.2925 - val_det_loss: 0.6435 - val_cls_loss: 0.4583 - val_box_loss: 0.0037 - val_reg_l2_loss: 0.0647 - val_loss: 0.7082\n",
      "Epoch 5/50\n",
      "68/68 [==============================] - 30s 443ms/step - det_loss: 0.6821 - cls_loss: 0.4800 - box_loss: 0.0040 - reg_l2_loss: 0.0647 - loss: 0.7467 - learning_rate: 0.0196 - gradient_norm: 1.3792 - val_det_loss: 0.5327 - val_cls_loss: 0.4096 - val_box_loss: 0.0025 - val_reg_l2_loss: 0.0647 - val_loss: 0.5974\n",
      "loading annotations into memory...\n",
      "Done (t=0.01s)\n",
      "creating index...\n",
      "index created!\n",
      "Loading and preparing results...\n",
      "Converting ndarray to lists...\n",
      "(4800, 7)\n",
      "0/4800\n",
      "DONE (t=0.03s)\n",
      "creating index...\n",
      "index created!\n",
      "Running per image evaluation...\n",
      "Evaluate annotation type *bbox*\n",
      "DONE (t=0.63s).\n",
      "Accumulating evaluation results...\n",
      "DONE (t=0.17s).\n",
      " Average Precision  (AP) @[ IoU=0.50:0.95 | area=   all | maxDets=100 ] = 0.346\n",
      " Average Precision  (AP) @[ IoU=0.50      | area=   all | maxDets=100 ] = 0.591\n",
      " Average Precision  (AP) @[ IoU=0.75      | area=   all | maxDets=100 ] = 0.378\n",
      " Average Precision  (AP) @[ IoU=0.50:0.95 | area= small | maxDets=100 ] = 0.318\n",
      " Average Precision  (AP) @[ IoU=0.50:0.95 | area=medium | maxDets=100 ] = 0.447\n",
      " Average Precision  (AP) @[ IoU=0.50:0.95 | area= large | maxDets=100 ] = -1.000\n",
      " Average Recall     (AR) @[ IoU=0.50:0.95 | area=   all | maxDets=  1 ] = 0.294\n",
      " Average Recall     (AR) @[ IoU=0.50:0.95 | area=   all | maxDets= 10 ] = 0.587\n",
      " Average Recall     (AR) @[ IoU=0.50:0.95 | area=   all | maxDets=100 ] = 0.599\n",
      " Average Recall     (AR) @[ IoU=0.50:0.95 | area= small | maxDets=100 ] = 0.544\n",
      " Average Recall     (AR) @[ IoU=0.50:0.95 | area=medium | maxDets=100 ] = 0.686\n",
      " Average Recall     (AR) @[ IoU=0.50:0.95 | area= large | maxDets=100 ] = -1.000\n",
      "Epoch 6/50\n",
      "68/68 [==============================] - 31s 452ms/step - det_loss: 0.6335 - cls_loss: 0.4398 - box_loss: 0.0039 - reg_l2_loss: 0.0647 - loss: 0.6982 - learning_rate: 0.0194 - gradient_norm: 1.3521 - val_det_loss: 0.5036 - val_cls_loss: 0.3686 - val_box_loss: 0.0027 - val_reg_l2_loss: 0.0647 - val_loss: 0.5683\n",
      "Epoch 7/50\n",
      "68/68 [==============================] - 39s 568ms/step - det_loss: 0.6055 - cls_loss: 0.4149 - box_loss: 0.0038 - reg_l2_loss: 0.0647 - loss: 0.6702 - learning_rate: 0.0191 - gradient_norm: 1.4181 - val_det_loss: 0.5098 - val_cls_loss: 0.3702 - val_box_loss: 0.0028 - val_reg_l2_loss: 0.0647 - val_loss: 0.5745\n",
      "Epoch 8/50\n",
      "68/68 [==============================] - 30s 443ms/step - det_loss: 0.5655 - cls_loss: 0.3830 - box_loss: 0.0036 - reg_l2_loss: 0.0647 - loss: 0.6302 - learning_rate: 0.0189 - gradient_norm: 1.3455 - val_det_loss: 0.4500 - val_cls_loss: 0.3225 - val_box_loss: 0.0025 - val_reg_l2_loss: 0.0647 - val_loss: 0.5147\n",
      "Epoch 9/50\n",
      "68/68 [==============================] - 30s 439ms/step - det_loss: 0.5403 - cls_loss: 0.3617 - box_loss: 0.0036 - reg_l2_loss: 0.0648 - loss: 0.6051 - learning_rate: 0.0185 - gradient_norm: 1.3926 - val_det_loss: 0.4479 - val_cls_loss: 0.3309 - val_box_loss: 0.0023 - val_reg_l2_loss: 0.0648 - val_loss: 0.5126\n",
      "Epoch 10/50\n",
      "68/68 [==============================] - 31s 456ms/step - det_loss: 0.5314 - cls_loss: 0.3491 - box_loss: 0.0036 - reg_l2_loss: 0.0648 - loss: 0.5962 - learning_rate: 0.0182 - gradient_norm: 1.4083 - val_det_loss: 0.4266 - val_cls_loss: 0.3011 - val_box_loss: 0.0025 - val_reg_l2_loss: 0.0648 - val_loss: 0.4914\n",
      "loading annotations into memory...\n",
      "Done (t=0.00s)\n",
      "creating index...\n",
      "index created!\n",
      "Loading and preparing results...\n",
      "Converting ndarray to lists...\n",
      "(4800, 7)\n",
      "0/4800\n",
      "DONE (t=0.03s)\n",
      "creating index...\n",
      "index created!\n",
      "Running per image evaluation...\n",
      "Evaluate annotation type *bbox*\n",
      "DONE (t=0.72s).\n",
      "Accumulating evaluation results...\n",
      "DONE (t=0.19s).\n",
      " Average Precision  (AP) @[ IoU=0.50:0.95 | area=   all | maxDets=100 ] = 0.477\n",
      " Average Precision  (AP) @[ IoU=0.50      | area=   all | maxDets=100 ] = 0.797\n",
      " Average Precision  (AP) @[ IoU=0.75      | area=   all | maxDets=100 ] = 0.552\n",
      " Average Precision  (AP) @[ IoU=0.50:0.95 | area= small | maxDets=100 ] = 0.428\n",
      " Average Precision  (AP) @[ IoU=0.50:0.95 | area=medium | maxDets=100 ] = 0.566\n",
      " Average Precision  (AP) @[ IoU=0.50:0.95 | area= large | maxDets=100 ] = -1.000\n",
      " Average Recall     (AR) @[ IoU=0.50:0.95 | area=   all | maxDets=  1 ] = 0.362\n",
      " Average Recall     (AR) @[ IoU=0.50:0.95 | area=   all | maxDets= 10 ] = 0.607\n",
      " Average Recall     (AR) @[ IoU=0.50:0.95 | area=   all | maxDets=100 ] = 0.621\n",
      " Average Recall     (AR) @[ IoU=0.50:0.95 | area= small | maxDets=100 ] = 0.558\n",
      " Average Recall     (AR) @[ IoU=0.50:0.95 | area=medium | maxDets=100 ] = 0.721\n",
      " Average Recall     (AR) @[ IoU=0.50:0.95 | area= large | maxDets=100 ] = -1.000\n",
      "Epoch 11/50\n",
      "68/68 [==============================] - 31s 459ms/step - det_loss: 0.5111 - cls_loss: 0.3390 - box_loss: 0.0034 - reg_l2_loss: 0.0648 - loss: 0.5759 - learning_rate: 0.0178 - gradient_norm: 1.3495 - val_det_loss: 0.3718 - val_cls_loss: 0.2643 - val_box_loss: 0.0022 - val_reg_l2_loss: 0.0648 - val_loss: 0.4366\n",
      "Epoch 12/50\n",
      "68/68 [==============================] - 31s 452ms/step - det_loss: 0.4941 - cls_loss: 0.3277 - box_loss: 0.0033 - reg_l2_loss: 0.0648 - loss: 0.5589 - learning_rate: 0.0174 - gradient_norm: 1.3578 - val_det_loss: 0.4091 - val_cls_loss: 0.2906 - val_box_loss: 0.0024 - val_reg_l2_loss: 0.0648 - val_loss: 0.4739\n",
      "Epoch 13/50\n",
      "68/68 [==============================] - 32s 467ms/step - det_loss: 0.4925 - cls_loss: 0.3254 - box_loss: 0.0033 - reg_l2_loss: 0.0648 - loss: 0.5573 - learning_rate: 0.0170 - gradient_norm: 1.3518 - val_det_loss: 0.3774 - val_cls_loss: 0.2650 - val_box_loss: 0.0022 - val_reg_l2_loss: 0.0648 - val_loss: 0.4422\n",
      "Epoch 14/50\n",
      "68/68 [==============================] - 33s 486ms/step - det_loss: 0.4669 - cls_loss: 0.3044 - box_loss: 0.0032 - reg_l2_loss: 0.0648 - loss: 0.5317 - learning_rate: 0.0165 - gradient_norm: 1.2879 - val_det_loss: 0.3827 - val_cls_loss: 0.2649 - val_box_loss: 0.0024 - val_reg_l2_loss: 0.0648 - val_loss: 0.4475\n",
      "Epoch 15/50\n",
      "68/68 [==============================] - 32s 466ms/step - det_loss: 0.4699 - cls_loss: 0.3047 - box_loss: 0.0033 - reg_l2_loss: 0.0648 - loss: 0.5347 - learning_rate: 0.0160 - gradient_norm: 1.3826 - val_det_loss: 0.3804 - val_cls_loss: 0.2621 - val_box_loss: 0.0024 - val_reg_l2_loss: 0.0648 - val_loss: 0.4452\n",
      "loading annotations into memory...\n",
      "Done (t=0.00s)\n",
      "creating index...\n",
      "index created!\n",
      "Loading and preparing results...\n",
      "Converting ndarray to lists...\n",
      "(4800, 7)\n",
      "0/4800\n",
      "DONE (t=0.02s)\n",
      "creating index...\n",
      "index created!\n",
      "Running per image evaluation...\n",
      "Evaluate annotation type *bbox*\n",
      "DONE (t=0.82s).\n",
      "Accumulating evaluation results...\n",
      "DONE (t=0.22s).\n",
      " Average Precision  (AP) @[ IoU=0.50:0.95 | area=   all | maxDets=100 ] = 0.542\n",
      " Average Precision  (AP) @[ IoU=0.50      | area=   all | maxDets=100 ] = 0.855\n",
      " Average Precision  (AP) @[ IoU=0.75      | area=   all | maxDets=100 ] = 0.632\n",
      " Average Precision  (AP) @[ IoU=0.50:0.95 | area= small | maxDets=100 ] = 0.495\n",
      " Average Precision  (AP) @[ IoU=0.50:0.95 | area=medium | maxDets=100 ] = 0.631\n",
      " Average Precision  (AP) @[ IoU=0.50:0.95 | area= large | maxDets=100 ] = -1.000\n",
      " Average Recall     (AR) @[ IoU=0.50:0.95 | area=   all | maxDets=  1 ] = 0.398\n",
      " Average Recall     (AR) @[ IoU=0.50:0.95 | area=   all | maxDets= 10 ] = 0.661\n",
      " Average Recall     (AR) @[ IoU=0.50:0.95 | area=   all | maxDets=100 ] = 0.667\n",
      " Average Recall     (AR) @[ IoU=0.50:0.95 | area= small | maxDets=100 ] = 0.626\n",
      " Average Recall     (AR) @[ IoU=0.50:0.95 | area=medium | maxDets=100 ] = 0.734\n",
      " Average Recall     (AR) @[ IoU=0.50:0.95 | area= large | maxDets=100 ] = -1.000\n",
      "Epoch 16/50\n",
      "68/68 [==============================] - 31s 456ms/step - det_loss: 0.4655 - cls_loss: 0.3029 - box_loss: 0.0033 - reg_l2_loss: 0.0648 - loss: 0.5303 - learning_rate: 0.0155 - gradient_norm: 1.3217 - val_det_loss: 0.3609 - val_cls_loss: 0.2446 - val_box_loss: 0.0023 - val_reg_l2_loss: 0.0648 - val_loss: 0.4257\n",
      "Epoch 17/50\n",
      "68/68 [==============================] - 31s 460ms/step - det_loss: 0.4547 - cls_loss: 0.2943 - box_loss: 0.0032 - reg_l2_loss: 0.0648 - loss: 0.5195 - learning_rate: 0.0149 - gradient_norm: 1.3075 - val_det_loss: 0.3682 - val_cls_loss: 0.2581 - val_box_loss: 0.0022 - val_reg_l2_loss: 0.0648 - val_loss: 0.4330\n",
      "Epoch 18/50\n",
      "68/68 [==============================] - 31s 456ms/step - det_loss: 0.4445 - cls_loss: 0.2888 - box_loss: 0.0031 - reg_l2_loss: 0.0648 - loss: 0.5093 - learning_rate: 0.0143 - gradient_norm: 1.2964 - val_det_loss: 0.3686 - val_cls_loss: 0.2573 - val_box_loss: 0.0022 - val_reg_l2_loss: 0.0648 - val_loss: 0.4334\n",
      "Epoch 19/50\n",
      "68/68 [==============================] - 31s 454ms/step - det_loss: 0.4449 - cls_loss: 0.2853 - box_loss: 0.0032 - reg_l2_loss: 0.0648 - loss: 0.5096 - learning_rate: 0.0138 - gradient_norm: 1.3089 - val_det_loss: 0.3443 - val_cls_loss: 0.2386 - val_box_loss: 0.0021 - val_reg_l2_loss: 0.0648 - val_loss: 0.4090\n",
      "Epoch 20/50\n",
      "68/68 [==============================] - 30s 447ms/step - det_loss: 0.4289 - cls_loss: 0.2765 - box_loss: 0.0030 - reg_l2_loss: 0.0648 - loss: 0.4937 - learning_rate: 0.0132 - gradient_norm: 1.2634 - val_det_loss: 0.3758 - val_cls_loss: 0.2531 - val_box_loss: 0.0025 - val_reg_l2_loss: 0.0648 - val_loss: 0.4406\n",
      "loading annotations into memory...\n",
      "Done (t=0.00s)\n",
      "creating index...\n",
      "index created!\n",
      "Loading and preparing results...\n",
      "Converting ndarray to lists...\n",
      "(4800, 7)\n",
      "0/4800\n",
      "DONE (t=0.03s)\n",
      "creating index...\n",
      "index created!\n",
      "Running per image evaluation...\n",
      "Evaluate annotation type *bbox*\n",
      "DONE (t=0.68s).\n",
      "Accumulating evaluation results...\n",
      "DONE (t=0.20s).\n",
      " Average Precision  (AP) @[ IoU=0.50:0.95 | area=   all | maxDets=100 ] = 0.520\n",
      " Average Precision  (AP) @[ IoU=0.50      | area=   all | maxDets=100 ] = 0.854\n",
      " Average Precision  (AP) @[ IoU=0.75      | area=   all | maxDets=100 ] = 0.569\n",
      " Average Precision  (AP) @[ IoU=0.50:0.95 | area= small | maxDets=100 ] = 0.467\n",
      " Average Precision  (AP) @[ IoU=0.50:0.95 | area=medium | maxDets=100 ] = 0.628\n",
      " Average Precision  (AP) @[ IoU=0.50:0.95 | area= large | maxDets=100 ] = -1.000\n",
      " Average Recall     (AR) @[ IoU=0.50:0.95 | area=   all | maxDets=  1 ] = 0.391\n",
      " Average Recall     (AR) @[ IoU=0.50:0.95 | area=   all | maxDets= 10 ] = 0.633\n",
      " Average Recall     (AR) @[ IoU=0.50:0.95 | area=   all | maxDets=100 ] = 0.639\n",
      " Average Recall     (AR) @[ IoU=0.50:0.95 | area= small | maxDets=100 ] = 0.571\n",
      " Average Recall     (AR) @[ IoU=0.50:0.95 | area=medium | maxDets=100 ] = 0.750\n",
      " Average Recall     (AR) @[ IoU=0.50:0.95 | area= large | maxDets=100 ] = -1.000\n",
      "Epoch 21/50\n",
      "68/68 [==============================] - 31s 455ms/step - det_loss: 0.4227 - cls_loss: 0.2728 - box_loss: 0.0030 - reg_l2_loss: 0.0648 - loss: 0.4875 - learning_rate: 0.0125 - gradient_norm: 1.2749 - val_det_loss: 0.3331 - val_cls_loss: 0.2319 - val_box_loss: 0.0020 - val_reg_l2_loss: 0.0648 - val_loss: 0.3978\n",
      "Epoch 22/50\n",
      "68/68 [==============================] - 30s 442ms/step - det_loss: 0.4300 - cls_loss: 0.2767 - box_loss: 0.0031 - reg_l2_loss: 0.0648 - loss: 0.4947 - learning_rate: 0.0119 - gradient_norm: 1.2925 - val_det_loss: 0.3342 - val_cls_loss: 0.2283 - val_box_loss: 0.0021 - val_reg_l2_loss: 0.0648 - val_loss: 0.3989\n",
      "Epoch 23/50\n",
      "68/68 [==============================] - 32s 468ms/step - det_loss: 0.4229 - cls_loss: 0.2705 - box_loss: 0.0030 - reg_l2_loss: 0.0648 - loss: 0.4876 - learning_rate: 0.0113 - gradient_norm: 1.2995 - val_det_loss: 0.3539 - val_cls_loss: 0.2354 - val_box_loss: 0.0024 - val_reg_l2_loss: 0.0647 - val_loss: 0.4186\n",
      "Epoch 24/50\n",
      "68/68 [==============================] - 31s 453ms/step - det_loss: 0.4125 - cls_loss: 0.2668 - box_loss: 0.0029 - reg_l2_loss: 0.0647 - loss: 0.4773 - learning_rate: 0.0106 - gradient_norm: 1.2885 - val_det_loss: 0.3537 - val_cls_loss: 0.2474 - val_box_loss: 0.0021 - val_reg_l2_loss: 0.0647 - val_loss: 0.4184\n",
      "Epoch 25/50\n",
      "68/68 [==============================] - 29s 426ms/step - det_loss: 0.4138 - cls_loss: 0.2673 - box_loss: 0.0029 - reg_l2_loss: 0.0647 - loss: 0.4785 - learning_rate: 0.0100 - gradient_norm: 1.2658 - val_det_loss: 0.3461 - val_cls_loss: 0.2333 - val_box_loss: 0.0023 - val_reg_l2_loss: 0.0647 - val_loss: 0.4108\n",
      "loading annotations into memory...\n",
      "Done (t=0.00s)\n",
      "creating index...\n",
      "index created!\n",
      "Loading and preparing results...\n",
      "Converting ndarray to lists...\n",
      "(4800, 7)\n",
      "0/4800\n",
      "DONE (t=0.02s)\n",
      "creating index...\n",
      "index created!\n",
      "Running per image evaluation...\n",
      "Evaluate annotation type *bbox*\n",
      "DONE (t=0.71s).\n",
      "Accumulating evaluation results...\n",
      "DONE (t=0.27s).\n",
      " Average Precision  (AP) @[ IoU=0.50:0.95 | area=   all | maxDets=100 ] = 0.566\n",
      " Average Precision  (AP) @[ IoU=0.50      | area=   all | maxDets=100 ] = 0.878\n",
      " Average Precision  (AP) @[ IoU=0.75      | area=   all | maxDets=100 ] = 0.675\n",
      " Average Precision  (AP) @[ IoU=0.50:0.95 | area= small | maxDets=100 ] = 0.525\n",
      " Average Precision  (AP) @[ IoU=0.50:0.95 | area=medium | maxDets=100 ] = 0.648\n",
      " Average Precision  (AP) @[ IoU=0.50:0.95 | area= large | maxDets=100 ] = -1.000\n",
      " Average Recall     (AR) @[ IoU=0.50:0.95 | area=   all | maxDets=  1 ] = 0.412\n",
      " Average Recall     (AR) @[ IoU=0.50:0.95 | area=   all | maxDets= 10 ] = 0.671\n",
      " Average Recall     (AR) @[ IoU=0.50:0.95 | area=   all | maxDets=100 ] = 0.676\n",
      " Average Recall     (AR) @[ IoU=0.50:0.95 | area= small | maxDets=100 ] = 0.643\n",
      " Average Recall     (AR) @[ IoU=0.50:0.95 | area=medium | maxDets=100 ] = 0.747\n",
      " Average Recall     (AR) @[ IoU=0.50:0.95 | area= large | maxDets=100 ] = -1.000\n",
      "Epoch 26/50\n",
      "68/68 [==============================] - 31s 455ms/step - det_loss: 0.4096 - cls_loss: 0.2655 - box_loss: 0.0029 - reg_l2_loss: 0.0647 - loss: 0.4743 - learning_rate: 0.0094 - gradient_norm: 1.2136 - val_det_loss: 0.3336 - val_cls_loss: 0.2363 - val_box_loss: 0.0019 - val_reg_l2_loss: 0.0647 - val_loss: 0.3983\n",
      "Epoch 27/50\n",
      "68/68 [==============================] - 32s 465ms/step - det_loss: 0.4134 - cls_loss: 0.2658 - box_loss: 0.0030 - reg_l2_loss: 0.0647 - loss: 0.4781 - learning_rate: 0.0087 - gradient_norm: 1.2774 - val_det_loss: 0.3516 - val_cls_loss: 0.2536 - val_box_loss: 0.0020 - val_reg_l2_loss: 0.0647 - val_loss: 0.4163\n",
      "Epoch 28/50\n",
      "68/68 [==============================] - 32s 467ms/step - det_loss: 0.4017 - cls_loss: 0.2621 - box_loss: 0.0028 - reg_l2_loss: 0.0647 - loss: 0.4664 - learning_rate: 0.0081 - gradient_norm: 1.2403 - val_det_loss: 0.3340 - val_cls_loss: 0.2326 - val_box_loss: 0.0020 - val_reg_l2_loss: 0.0647 - val_loss: 0.3987\n",
      "Epoch 29/50\n",
      "68/68 [==============================] - 32s 466ms/step - det_loss: 0.3929 - cls_loss: 0.2545 - box_loss: 0.0028 - reg_l2_loss: 0.0647 - loss: 0.4576 - learning_rate: 0.0075 - gradient_norm: 1.1912 - val_det_loss: 0.3307 - val_cls_loss: 0.2302 - val_box_loss: 0.0020 - val_reg_l2_loss: 0.0647 - val_loss: 0.3954\n",
      "Epoch 30/50\n",
      "68/68 [==============================] - 32s 471ms/step - det_loss: 0.3959 - cls_loss: 0.2553 - box_loss: 0.0028 - reg_l2_loss: 0.0647 - loss: 0.4605 - learning_rate: 0.0068 - gradient_norm: 1.2491 - val_det_loss: 0.3299 - val_cls_loss: 0.2277 - val_box_loss: 0.0020 - val_reg_l2_loss: 0.0647 - val_loss: 0.3945\n",
      "loading annotations into memory...\n",
      "Done (t=0.00s)\n",
      "creating index...\n",
      "index created!\n",
      "Loading and preparing results...\n",
      "Converting ndarray to lists...\n",
      "(4800, 7)\n",
      "0/4800\n",
      "DONE (t=0.02s)\n",
      "creating index...\n",
      "index created!\n",
      "Running per image evaluation...\n",
      "Evaluate annotation type *bbox*\n",
      "DONE (t=0.66s).\n",
      "Accumulating evaluation results...\n",
      "DONE (t=0.17s).\n",
      " Average Precision  (AP) @[ IoU=0.50:0.95 | area=   all | maxDets=100 ] = 0.579\n",
      " Average Precision  (AP) @[ IoU=0.50      | area=   all | maxDets=100 ] = 0.892\n",
      " Average Precision  (AP) @[ IoU=0.75      | area=   all | maxDets=100 ] = 0.685\n",
      " Average Precision  (AP) @[ IoU=0.50:0.95 | area= small | maxDets=100 ] = 0.540\n",
      " Average Precision  (AP) @[ IoU=0.50:0.95 | area=medium | maxDets=100 ] = 0.664\n",
      " Average Precision  (AP) @[ IoU=0.50:0.95 | area= large | maxDets=100 ] = -1.000\n",
      " Average Recall     (AR) @[ IoU=0.50:0.95 | area=   all | maxDets=  1 ] = 0.418\n",
      " Average Recall     (AR) @[ IoU=0.50:0.95 | area=   all | maxDets= 10 ] = 0.685\n",
      " Average Recall     (AR) @[ IoU=0.50:0.95 | area=   all | maxDets=100 ] = 0.692\n",
      " Average Recall     (AR) @[ IoU=0.50:0.95 | area= small | maxDets=100 ] = 0.657\n",
      " Average Recall     (AR) @[ IoU=0.50:0.95 | area=medium | maxDets=100 ] = 0.759\n",
      " Average Recall     (AR) @[ IoU=0.50:0.95 | area= large | maxDets=100 ] = -1.000\n",
      "Epoch 31/50\n",
      "68/68 [==============================] - 30s 435ms/step - det_loss: 0.3924 - cls_loss: 0.2560 - box_loss: 0.0027 - reg_l2_loss: 0.0646 - loss: 0.4570 - learning_rate: 0.0062 - gradient_norm: 1.2412 - val_det_loss: 0.3212 - val_cls_loss: 0.2299 - val_box_loss: 0.0018 - val_reg_l2_loss: 0.0646 - val_loss: 0.3859\n",
      "Epoch 32/50\n",
      "68/68 [==============================] - 29s 432ms/step - det_loss: 0.3993 - cls_loss: 0.2572 - box_loss: 0.0028 - reg_l2_loss: 0.0646 - loss: 0.4640 - learning_rate: 0.0057 - gradient_norm: 1.2718 - val_det_loss: 0.3145 - val_cls_loss: 0.2170 - val_box_loss: 0.0019 - val_reg_l2_loss: 0.0646 - val_loss: 0.3792\n",
      "Epoch 33/50\n",
      "68/68 [==============================] - 29s 429ms/step - det_loss: 0.3865 - cls_loss: 0.2494 - box_loss: 0.0027 - reg_l2_loss: 0.0646 - loss: 0.4511 - learning_rate: 0.0051 - gradient_norm: 1.2310 - val_det_loss: 0.3149 - val_cls_loss: 0.2213 - val_box_loss: 0.0019 - val_reg_l2_loss: 0.0646 - val_loss: 0.3795\n",
      "Epoch 34/50\n",
      "68/68 [==============================] - 29s 424ms/step - det_loss: 0.3872 - cls_loss: 0.2501 - box_loss: 0.0027 - reg_l2_loss: 0.0646 - loss: 0.4518 - learning_rate: 0.0045 - gradient_norm: 1.2616 - val_det_loss: 0.3191 - val_cls_loss: 0.2229 - val_box_loss: 0.0019 - val_reg_l2_loss: 0.0646 - val_loss: 0.3837\n",
      "Epoch 35/50\n",
      "68/68 [==============================] - 32s 465ms/step - det_loss: 0.3898 - cls_loss: 0.2520 - box_loss: 0.0028 - reg_l2_loss: 0.0646 - loss: 0.4544 - learning_rate: 0.0040 - gradient_norm: 1.2338 - val_det_loss: 0.3046 - val_cls_loss: 0.2122 - val_box_loss: 0.0018 - val_reg_l2_loss: 0.0646 - val_loss: 0.3691\n",
      "loading annotations into memory...\n",
      "Done (t=0.00s)\n",
      "creating index...\n",
      "index created!\n",
      "Loading and preparing results...\n",
      "Converting ndarray to lists...\n",
      "(4800, 7)\n",
      "0/4800\n",
      "DONE (t=0.02s)\n",
      "creating index...\n",
      "index created!\n",
      "Running per image evaluation...\n",
      "Evaluate annotation type *bbox*\n",
      "DONE (t=0.67s).\n",
      "Accumulating evaluation results...\n",
      "DONE (t=0.18s).\n",
      " Average Precision  (AP) @[ IoU=0.50:0.95 | area=   all | maxDets=100 ] = 0.599\n",
      " Average Precision  (AP) @[ IoU=0.50      | area=   all | maxDets=100 ] = 0.900\n",
      " Average Precision  (AP) @[ IoU=0.75      | area=   all | maxDets=100 ] = 0.726\n",
      " Average Precision  (AP) @[ IoU=0.50:0.95 | area= small | maxDets=100 ] = 0.552\n",
      " Average Precision  (AP) @[ IoU=0.50:0.95 | area=medium | maxDets=100 ] = 0.695\n",
      " Average Precision  (AP) @[ IoU=0.50:0.95 | area= large | maxDets=100 ] = -1.000\n",
      " Average Recall     (AR) @[ IoU=0.50:0.95 | area=   all | maxDets=  1 ] = 0.435\n",
      " Average Recall     (AR) @[ IoU=0.50:0.95 | area=   all | maxDets= 10 ] = 0.703\n",
      " Average Recall     (AR) @[ IoU=0.50:0.95 | area=   all | maxDets=100 ] = 0.708\n",
      " Average Recall     (AR) @[ IoU=0.50:0.95 | area= small | maxDets=100 ] = 0.671\n",
      " Average Recall     (AR) @[ IoU=0.50:0.95 | area=medium | maxDets=100 ] = 0.790\n",
      " Average Recall     (AR) @[ IoU=0.50:0.95 | area= large | maxDets=100 ] = -1.000\n",
      "Epoch 36/50\n",
      "68/68 [==============================] - 30s 446ms/step - det_loss: 0.3799 - cls_loss: 0.2454 - box_loss: 0.0027 - reg_l2_loss: 0.0646 - loss: 0.4445 - learning_rate: 0.0035 - gradient_norm: 1.1975 - val_det_loss: 0.3079 - val_cls_loss: 0.2155 - val_box_loss: 0.0018 - val_reg_l2_loss: 0.0646 - val_loss: 0.3725\n",
      "Epoch 37/50\n",
      "68/68 [==============================] - 33s 479ms/step - det_loss: 0.3874 - cls_loss: 0.2506 - box_loss: 0.0027 - reg_l2_loss: 0.0646 - loss: 0.4519 - learning_rate: 0.0030 - gradient_norm: 1.2709 - val_det_loss: 0.3185 - val_cls_loss: 0.2191 - val_box_loss: 0.0020 - val_reg_l2_loss: 0.0646 - val_loss: 0.3831\n",
      "Epoch 38/50\n",
      "68/68 [==============================] - 31s 455ms/step - det_loss: 0.3807 - cls_loss: 0.2439 - box_loss: 0.0027 - reg_l2_loss: 0.0646 - loss: 0.4452 - learning_rate: 0.0026 - gradient_norm: 1.2423 - val_det_loss: 0.3230 - val_cls_loss: 0.2198 - val_box_loss: 0.0021 - val_reg_l2_loss: 0.0646 - val_loss: 0.3875\n",
      "Epoch 39/50\n",
      "68/68 [==============================] - 33s 489ms/step - det_loss: 0.3748 - cls_loss: 0.2401 - box_loss: 0.0027 - reg_l2_loss: 0.0646 - loss: 0.4394 - learning_rate: 0.0022 - gradient_norm: 1.2375 - val_det_loss: 0.3047 - val_cls_loss: 0.2144 - val_box_loss: 0.0018 - val_reg_l2_loss: 0.0646 - val_loss: 0.3693\n",
      "Epoch 40/50\n",
      "68/68 [==============================] - 30s 448ms/step - det_loss: 0.3828 - cls_loss: 0.2479 - box_loss: 0.0027 - reg_l2_loss: 0.0646 - loss: 0.4474 - learning_rate: 0.0018 - gradient_norm: 1.2375 - val_det_loss: 0.3135 - val_cls_loss: 0.2190 - val_box_loss: 0.0019 - val_reg_l2_loss: 0.0646 - val_loss: 0.3781\n",
      "loading annotations into memory...\n",
      "Done (t=0.00s)\n",
      "creating index...\n",
      "index created!\n",
      "Loading and preparing results...\n",
      "Converting ndarray to lists...\n",
      "(4800, 7)\n",
      "0/4800\n",
      "DONE (t=0.61s)\n",
      "creating index...\n",
      "index created!\n",
      "Running per image evaluation...\n",
      "Evaluate annotation type *bbox*\n",
      "DONE (t=0.75s).\n",
      "Accumulating evaluation results...\n",
      "DONE (t=0.25s).\n",
      " Average Precision  (AP) @[ IoU=0.50:0.95 | area=   all | maxDets=100 ] = 0.596\n",
      " Average Precision  (AP) @[ IoU=0.50      | area=   all | maxDets=100 ] = 0.893\n",
      " Average Precision  (AP) @[ IoU=0.75      | area=   all | maxDets=100 ] = 0.700\n",
      " Average Precision  (AP) @[ IoU=0.50:0.95 | area= small | maxDets=100 ] = 0.559\n",
      " Average Precision  (AP) @[ IoU=0.50:0.95 | area=medium | maxDets=100 ] = 0.678\n",
      " Average Precision  (AP) @[ IoU=0.50:0.95 | area= large | maxDets=100 ] = -1.000\n",
      " Average Recall     (AR) @[ IoU=0.50:0.95 | area=   all | maxDets=  1 ] = 0.430\n",
      " Average Recall     (AR) @[ IoU=0.50:0.95 | area=   all | maxDets= 10 ] = 0.698\n",
      " Average Recall     (AR) @[ IoU=0.50:0.95 | area=   all | maxDets=100 ] = 0.703\n",
      " Average Recall     (AR) @[ IoU=0.50:0.95 | area= small | maxDets=100 ] = 0.670\n",
      " Average Recall     (AR) @[ IoU=0.50:0.95 | area=medium | maxDets=100 ] = 0.774\n",
      " Average Recall     (AR) @[ IoU=0.50:0.95 | area= large | maxDets=100 ] = -1.000\n",
      "Epoch 41/50\n",
      "68/68 [==============================] - 31s 446ms/step - det_loss: 0.3757 - cls_loss: 0.2447 - box_loss: 0.0026 - reg_l2_loss: 0.0646 - loss: 0.4402 - learning_rate: 0.0015 - gradient_norm: 1.2273 - val_det_loss: 0.3057 - val_cls_loss: 0.2129 - val_box_loss: 0.0019 - val_reg_l2_loss: 0.0646 - val_loss: 0.3702\n",
      "Epoch 42/50\n",
      "68/68 [==============================] - 32s 473ms/step - det_loss: 0.3817 - cls_loss: 0.2471 - box_loss: 0.0027 - reg_l2_loss: 0.0646 - loss: 0.4462 - learning_rate: 0.0011 - gradient_norm: 1.2526 - val_det_loss: 0.3111 - val_cls_loss: 0.2157 - val_box_loss: 0.0019 - val_reg_l2_loss: 0.0646 - val_loss: 0.3756\n",
      "Epoch 43/50\n",
      "68/68 [==============================] - 30s 448ms/step - det_loss: 0.3788 - cls_loss: 0.2449 - box_loss: 0.0027 - reg_l2_loss: 0.0646 - loss: 0.4433 - learning_rate: 8.5754e-04 - gradient_norm: 1.2592 - val_det_loss: 0.3061 - val_cls_loss: 0.2155 - val_box_loss: 0.0018 - val_reg_l2_loss: 0.0646 - val_loss: 0.3707\n",
      "Epoch 44/50\n",
      "68/68 [==============================] - 32s 466ms/step - det_loss: 0.3696 - cls_loss: 0.2399 - box_loss: 0.0026 - reg_l2_loss: 0.0646 - loss: 0.4342 - learning_rate: 6.1701e-04 - gradient_norm: 1.2512 - val_det_loss: 0.3074 - val_cls_loss: 0.2154 - val_box_loss: 0.0018 - val_reg_l2_loss: 0.0646 - val_loss: 0.3720\n",
      "Epoch 45/50\n",
      "68/68 [==============================] - 31s 460ms/step - det_loss: 0.3767 - cls_loss: 0.2420 - box_loss: 0.0027 - reg_l2_loss: 0.0646 - loss: 0.4413 - learning_rate: 4.1505e-04 - gradient_norm: 1.2073 - val_det_loss: 0.3081 - val_cls_loss: 0.2157 - val_box_loss: 0.0018 - val_reg_l2_loss: 0.0646 - val_loss: 0.3727\n",
      "loading annotations into memory...\n",
      "Done (t=0.00s)\n",
      "creating index...\n",
      "index created!\n",
      "Loading and preparing results...\n",
      "Converting ndarray to lists...\n",
      "(4800, 7)\n",
      "0/4800\n",
      "DONE (t=0.03s)\n",
      "creating index...\n",
      "index created!\n",
      "Running per image evaluation...\n",
      "Evaluate annotation type *bbox*\n",
      "DONE (t=0.66s).\n",
      "Accumulating evaluation results...\n",
      "DONE (t=0.19s).\n",
      " Average Precision  (AP) @[ IoU=0.50:0.95 | area=   all | maxDets=100 ] = 0.601\n",
      " Average Precision  (AP) @[ IoU=0.50      | area=   all | maxDets=100 ] = 0.892\n",
      " Average Precision  (AP) @[ IoU=0.75      | area=   all | maxDets=100 ] = 0.725\n",
      " Average Precision  (AP) @[ IoU=0.50:0.95 | area= small | maxDets=100 ] = 0.559\n",
      " Average Precision  (AP) @[ IoU=0.50:0.95 | area=medium | maxDets=100 ] = 0.688\n",
      " Average Precision  (AP) @[ IoU=0.50:0.95 | area= large | maxDets=100 ] = -1.000\n",
      " Average Recall     (AR) @[ IoU=0.50:0.95 | area=   all | maxDets=  1 ] = 0.438\n",
      " Average Recall     (AR) @[ IoU=0.50:0.95 | area=   all | maxDets= 10 ] = 0.705\n",
      " Average Recall     (AR) @[ IoU=0.50:0.95 | area=   all | maxDets=100 ] = 0.713\n",
      " Average Recall     (AR) @[ IoU=0.50:0.95 | area= small | maxDets=100 ] = 0.682\n",
      " Average Recall     (AR) @[ IoU=0.50:0.95 | area=medium | maxDets=100 ] = 0.779\n",
      " Average Recall     (AR) @[ IoU=0.50:0.95 | area= large | maxDets=100 ] = -1.000\n",
      "Epoch 46/50\n",
      "68/68 [==============================] - 29s 428ms/step - det_loss: 0.3697 - cls_loss: 0.2402 - box_loss: 0.0026 - reg_l2_loss: 0.0646 - loss: 0.4343 - learning_rate: 2.5247e-04 - gradient_norm: 1.2147 - val_det_loss: 0.3101 - val_cls_loss: 0.2158 - val_box_loss: 0.0019 - val_reg_l2_loss: 0.0645 - val_loss: 0.3747\n",
      "Epoch 47/50\n",
      "68/68 [==============================] - 29s 423ms/step - det_loss: 0.3745 - cls_loss: 0.2424 - box_loss: 0.0026 - reg_l2_loss: 0.0645 - loss: 0.4390 - learning_rate: 1.2994e-04 - gradient_norm: 1.2315 - val_det_loss: 0.3078 - val_cls_loss: 0.2148 - val_box_loss: 0.0019 - val_reg_l2_loss: 0.0645 - val_loss: 0.3724\n",
      "Epoch 48/50\n",
      "68/68 [==============================] - 30s 435ms/step - det_loss: 0.3827 - cls_loss: 0.2472 - box_loss: 0.0027 - reg_l2_loss: 0.0645 - loss: 0.4473 - learning_rate: 4.7972e-05 - gradient_norm: 1.2531 - val_det_loss: 0.3082 - val_cls_loss: 0.2151 - val_box_loss: 0.0019 - val_reg_l2_loss: 0.0645 - val_loss: 0.3727\n",
      "Epoch 49/50\n",
      "68/68 [==============================] - 30s 443ms/step - det_loss: 0.3685 - cls_loss: 0.2404 - box_loss: 0.0026 - reg_l2_loss: 0.0645 - loss: 0.4331 - learning_rate: 6.9000e-06 - gradient_norm: 1.2399 - val_det_loss: 0.3080 - val_cls_loss: 0.2152 - val_box_loss: 0.0019 - val_reg_l2_loss: 0.0645 - val_loss: 0.3725\n",
      "Epoch 50/50\n",
      "68/68 [==============================] - 30s 448ms/step - det_loss: 0.3643 - cls_loss: 0.2370 - box_loss: 0.0025 - reg_l2_loss: 0.0645 - loss: 0.4288 - learning_rate: 6.8913e-06 - gradient_norm: 1.1731 - val_det_loss: 0.3082 - val_cls_loss: 0.2154 - val_box_loss: 0.0019 - val_reg_l2_loss: 0.0645 - val_loss: 0.3727\n",
      "loading annotations into memory...\n",
      "Done (t=0.00s)\n",
      "creating index...\n",
      "index created!\n",
      "Loading and preparing results...\n",
      "Converting ndarray to lists...\n",
      "(4800, 7)\n",
      "0/4800\n",
      "DONE (t=0.02s)\n",
      "creating index...\n",
      "index created!\n",
      "Running per image evaluation...\n",
      "Evaluate annotation type *bbox*\n",
      "DONE (t=0.68s).\n",
      "Accumulating evaluation results...\n",
      "DONE (t=0.21s).\n",
      " Average Precision  (AP) @[ IoU=0.50:0.95 | area=   all | maxDets=100 ] = 0.602\n",
      " Average Precision  (AP) @[ IoU=0.50      | area=   all | maxDets=100 ] = 0.894\n",
      " Average Precision  (AP) @[ IoU=0.75      | area=   all | maxDets=100 ] = 0.728\n",
      " Average Precision  (AP) @[ IoU=0.50:0.95 | area= small | maxDets=100 ] = 0.560\n",
      " Average Precision  (AP) @[ IoU=0.50:0.95 | area=medium | maxDets=100 ] = 0.686\n",
      " Average Precision  (AP) @[ IoU=0.50:0.95 | area= large | maxDets=100 ] = -1.000\n",
      " Average Recall     (AR) @[ IoU=0.50:0.95 | area=   all | maxDets=  1 ] = 0.435\n",
      " Average Recall     (AR) @[ IoU=0.50:0.95 | area=   all | maxDets= 10 ] = 0.707\n",
      " Average Recall     (AR) @[ IoU=0.50:0.95 | area=   all | maxDets=100 ] = 0.714\n",
      " Average Recall     (AR) @[ IoU=0.50:0.95 | area= small | maxDets=100 ] = 0.683\n",
      " Average Recall     (AR) @[ IoU=0.50:0.95 | area=medium | maxDets=100 ] = 0.779\n",
      " Average Recall     (AR) @[ IoU=0.50:0.95 | area= large | maxDets=100 ] = -1.000\n"
     ]
    }
   ],
   "source": [
    "model = object_detector.create(dataloader, model_spec=spec, validation_data = dataloader_test, epochs=50, batch_size=16, train_whole_model=True)"
   ]
  },
  {
   "cell_type": "code",
   "execution_count": 11,
   "metadata": {
    "id": "S6NiCdkVrS7a"
   },
   "outputs": [
    {
     "name": "stdout",
     "output_type": "stream",
     "text": [
      "1/1 [==============================] - 17s 17s/step\n",
      "\n",
      "loading annotations into memory...\n",
      "Done (t=0.01s)\n",
      "creating index...\n",
      "index created!\n",
      "Loading and preparing results...\n",
      "Converting ndarray to lists...\n",
      "(5000, 7)\n",
      "0/5000\n",
      "DONE (t=0.02s)\n",
      "creating index...\n",
      "index created!\n",
      "Running per image evaluation...\n",
      "Evaluate annotation type *bbox*\n",
      "DONE (t=0.73s).\n",
      "Accumulating evaluation results...\n",
      "DONE (t=0.16s).\n",
      " Average Precision  (AP) @[ IoU=0.50:0.95 | area=   all | maxDets=100 ] = 0.500\n",
      " Average Precision  (AP) @[ IoU=0.50      | area=   all | maxDets=100 ] = 0.775\n",
      " Average Precision  (AP) @[ IoU=0.75      | area=   all | maxDets=100 ] = 0.567\n",
      " Average Precision  (AP) @[ IoU=0.50:0.95 | area= small | maxDets=100 ] = 0.385\n",
      " Average Precision  (AP) @[ IoU=0.50:0.95 | area=medium | maxDets=100 ] = 0.698\n",
      " Average Precision  (AP) @[ IoU=0.50:0.95 | area= large | maxDets=100 ] = -1.000\n",
      " Average Recall     (AR) @[ IoU=0.50:0.95 | area=   all | maxDets=  1 ] = 0.277\n",
      " Average Recall     (AR) @[ IoU=0.50:0.95 | area=   all | maxDets= 10 ] = 0.599\n",
      " Average Recall     (AR) @[ IoU=0.50:0.95 | area=   all | maxDets=100 ] = 0.612\n",
      " Average Recall     (AR) @[ IoU=0.50:0.95 | area= small | maxDets=100 ] = 0.531\n",
      " Average Recall     (AR) @[ IoU=0.50:0.95 | area=medium | maxDets=100 ] = 0.776\n",
      " Average Recall     (AR) @[ IoU=0.50:0.95 | area= large | maxDets=100 ] = -1.000\n"
     ]
    },
    {
     "data": {
      "text/plain": [
       "{'AP': 0.50045234,\n",
       " 'AP50': 0.7751884,\n",
       " 'AP75': 0.5668925,\n",
       " 'APs': 0.38535222,\n",
       " 'APm': 0.6983383,\n",
       " 'APl': -1.0,\n",
       " 'ARmax1': 0.27706546,\n",
       " 'ARmax10': 0.5986208,\n",
       " 'ARmax100': 0.6124267,\n",
       " 'ARs': 0.5311497,\n",
       " 'ARm': 0.7756451,\n",
       " 'ARl': -1.0,\n",
       " 'AP_/0': 0.5797364,\n",
       " 'AP_/1': 0.37200117,\n",
       " 'AP_/2': 0.5275543,\n",
       " 'AP_/3': 0.59085727,\n",
       " 'AP_/4': 0.5245803,\n",
       " 'AP_/5': 0.561948,\n",
       " 'AP_/6': 0.49218944,\n",
       " 'AP_/7': 0.566963,\n",
       " 'AP_/8': 0.5747867,\n",
       " 'AP_/9': 0.5891777,\n",
       " 'AP_/.': 0.12518166}"
      ]
     },
     "execution_count": 11,
     "metadata": {},
     "output_type": "execute_result"
    }
   ],
   "source": [
    "model.evaluate(dataloader_validation)"
   ]
  },
  {
   "cell_type": "code",
   "execution_count": 12,
   "metadata": {
    "colab": {
     "base_uri": "https://localhost:8080/"
    },
    "id": "dcUsQ2KllizT",
    "outputId": "d69ff935-9bbb-4680-ddd8-eb363560906e",
    "scrolled": true
   },
   "outputs": [
    {
     "name": "stdout",
     "output_type": "stream",
     "text": [
      "WARNING:tensorflow:Skipping full serialization of Keras layer <tensorflow_examples.lite.model_maker.core.task.model_spec.object_detector_spec.ExportModel object at 0x00000219BE623220>, because it is not built.\n"
     ]
    },
    {
     "name": "stderr",
     "output_type": "stream",
     "text": [
      "WARNING:tensorflow:Skipping full serialization of Keras layer <tensorflow_examples.lite.model_maker.core.task.model_spec.object_detector_spec.ExportModel object at 0x00000219BE623220>, because it is not built.\n",
      "WARNING:absl:Found untraced functions such as restored_function_body, restored_function_body, restored_function_body, restored_function_body, restored_function_body while saving (showing 5 of 1520). These functions will not be directly callable after loading.\n"
     ]
    },
    {
     "name": "stdout",
     "output_type": "stream",
     "text": [
      "WARNING:tensorflow:FOR KERAS USERS: The object that you are saving contains one or more Keras models or layers. If you are loading the SavedModel with `tf.keras.models.load_model`, continue reading (otherwise, you may ignore the following instructions). Please change your code to save with `tf.keras.models.save_model` or `model.save`, and confirm that the file \"keras.metadata\" exists in the export directory. In the future, Keras will only load the SavedModels that have this file. In other words, `tf.saved_model.save` will no longer write SavedModels that can be recovered as Keras models (this will apply in TF 2.5).\n",
      "\n",
      "FOR DEVS: If you are overwriting _tracking_metadata in your class, this property has been used to save metadata in the SavedModel. The metadta field will be deprecated soon, so please move the metadata to a different file.\n"
     ]
    },
    {
     "name": "stderr",
     "output_type": "stream",
     "text": [
      "WARNING:tensorflow:FOR KERAS USERS: The object that you are saving contains one or more Keras models or layers. If you are loading the SavedModel with `tf.keras.models.load_model`, continue reading (otherwise, you may ignore the following instructions). Please change your code to save with `tf.keras.models.save_model` or `model.save`, and confirm that the file \"keras.metadata\" exists in the export directory. In the future, Keras will only load the SavedModels that have this file. In other words, `tf.saved_model.save` will no longer write SavedModels that can be recovered as Keras models (this will apply in TF 2.5).\n",
      "\n",
      "FOR DEVS: If you are overwriting _tracking_metadata in your class, this property has been used to save metadata in the SavedModel. The metadta field will be deprecated soon, so please move the metadata to a different file.\n"
     ]
    },
    {
     "name": "stdout",
     "output_type": "stream",
     "text": [
      "INFO:tensorflow:Assets written to: C:\\Users\\eiwte\\AppData\\Local\\Temp\\tmpazufbjbo\\assets\n"
     ]
    },
    {
     "name": "stderr",
     "output_type": "stream",
     "text": [
      "INFO:tensorflow:Assets written to: C:\\Users\\eiwte\\AppData\\Local\\Temp\\tmpazufbjbo\\assets\n",
      "WARNING:absl:For model inputs containing unsupported operations which cannot be quantized, the `inference_input_type` attribute will default to the original type.\n"
     ]
    },
    {
     "name": "stdout",
     "output_type": "stream",
     "text": [
      "INFO:tensorflow:Label file is inside the TFLite model with metadata.\n"
     ]
    },
    {
     "name": "stderr",
     "output_type": "stream",
     "text": [
      "INFO:tensorflow:Label file is inside the TFLite model with metadata.\n"
     ]
    },
    {
     "name": "stdout",
     "output_type": "stream",
     "text": [
      "INFO:tensorflow:Saving labels in C:\\Users\\eiwte\\AppData\\Local\\Temp\\tmphq9tvhy7\\labelmap.txt.\n"
     ]
    },
    {
     "name": "stderr",
     "output_type": "stream",
     "text": [
      "INFO:tensorflow:Saving labels in C:\\Users\\eiwte\\AppData\\Local\\Temp\\tmphq9tvhy7\\labelmap.txt.\n"
     ]
    },
    {
     "name": "stdout",
     "output_type": "stream",
     "text": [
      "INFO:tensorflow:Finished populating metadata and associated file to the model:\n"
     ]
    },
    {
     "name": "stderr",
     "output_type": "stream",
     "text": [
      "INFO:tensorflow:Finished populating metadata and associated file to the model:\n"
     ]
    },
    {
     "name": "stdout",
     "output_type": "stream",
     "text": [
      "INFO:tensorflow:./model\\model.tflite\n"
     ]
    },
    {
     "name": "stderr",
     "output_type": "stream",
     "text": [
      "INFO:tensorflow:./model\\model.tflite\n"
     ]
    },
    {
     "name": "stdout",
     "output_type": "stream",
     "text": [
      "INFO:tensorflow:The associated file that has been been packed to the model is:\n"
     ]
    },
    {
     "name": "stderr",
     "output_type": "stream",
     "text": [
      "INFO:tensorflow:The associated file that has been been packed to the model is:\n"
     ]
    },
    {
     "name": "stdout",
     "output_type": "stream",
     "text": [
      "INFO:tensorflow:['labelmap.txt']\n"
     ]
    },
    {
     "name": "stderr",
     "output_type": "stream",
     "text": [
      "INFO:tensorflow:['labelmap.txt']\n"
     ]
    },
    {
     "name": "stdout",
     "output_type": "stream",
     "text": [
      "INFO:tensorflow:TensorFlow Lite model exported successfully: ./model\\model.tflite\n"
     ]
    },
    {
     "name": "stderr",
     "output_type": "stream",
     "text": [
      "INFO:tensorflow:TensorFlow Lite model exported successfully: ./model\\model.tflite\n"
     ]
    }
   ],
   "source": [
    "model.export(export_dir='./model')"
   ]
  },
  {
   "cell_type": "code",
   "execution_count": null,
   "metadata": {},
   "outputs": [],
   "source": []
  }
 ],
 "metadata": {
  "colab": {
   "name": "Tflite.ipynb",
   "provenance": []
  },
  "kernelspec": {
   "display_name": "Python 3",
   "language": "python",
   "name": "python3"
  },
  "language_info": {
   "codemirror_mode": {
    "name": "ipython",
    "version": 3
   },
   "file_extension": ".py",
   "mimetype": "text/x-python",
   "name": "python",
   "nbconvert_exporter": "python",
   "pygments_lexer": "ipython3",
   "version": "3.8.6"
  }
 },
 "nbformat": 4,
 "nbformat_minor": 1
}
