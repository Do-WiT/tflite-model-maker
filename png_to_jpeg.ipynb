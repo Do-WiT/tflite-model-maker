{
 "cells": [
  {
   "cell_type": "code",
   "execution_count": 10,
   "metadata": {},
   "outputs": [],
   "source": [
    "import imageio\n",
    "import glob\n",
    "from PIL import Image\n",
    "\n",
    "img = 0\n",
    "\n",
    "for im_path in glob.glob(\"C:\\\\Users\\\\wit_w\\\\OneDrive\\\\Desktop\\\\code\\\\Deep Learnig\\\\Recording Handwritten Digit\\\\TfLite\\\\test2\\\\*.png\"):\n",
    "    #im = imageio.imread(im_path)\n",
    "    im1 = Image.open(im_path)\n",
    "    if im1.mode in (\"RGBA\", \"P\"):\n",
    "        im1 = im1.convert(\"RGB\")\n",
    "    path = \"C:\\\\Users\\\\wit_w\\\\OneDrive\\\\Desktop\\\\code\\\\Deep Learnig\\\\Recording Handwritten Digit\\\\TfLite\\\\digits\\\\\"+ str(img) +\".jpg\"\n",
    "    im1.save(path)\n",
    "    img += 1"
   ]
  },
  {
   "cell_type": "code",
   "execution_count": null,
   "metadata": {},
   "outputs": [],
   "source": []
  }
 ],
 "metadata": {
  "kernelspec": {
   "display_name": "Python 3",
   "language": "python",
   "name": "python3"
  },
  "language_info": {
   "codemirror_mode": {
    "name": "ipython",
    "version": 3
   },
   "file_extension": ".py",
   "mimetype": "text/x-python",
   "name": "python",
   "nbconvert_exporter": "python",
   "pygments_lexer": "ipython3",
   "version": "3.8.6"
  }
 },
 "nbformat": 4,
 "nbformat_minor": 4
}
